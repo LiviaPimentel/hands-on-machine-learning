{
  "nbformat": 4,
  "nbformat_minor": 5,
  "metadata": {
    "kernelspec": {
      "display_name": "Python 3",
      "language": "python",
      "name": "python3"
    },
    "language_info": {
      "codemirror_mode": {
        "name": "ipython",
        "version": 3
      },
      "file_extension": ".py",
      "mimetype": "text/x-python",
      "name": "python",
      "nbconvert_exporter": "python",
      "pygments_lexer": "ipython3",
      "version": "3.7.0"
    },
    "colab": {
      "name": "Copy of UAV Intruder Detection.ipynb",
      "provenance": []
    }
  },
  "cells": [
    {
      "cell_type": "markdown",
      "metadata": {
        "id": "impressive-scoop"
      },
      "source": [
        "# Analise descritiva de dados - Projeto detecção de drones intrusos\n",
        "### Principais topicos \n",
        "* Caracterizacao de dados:\n",
        " *  Tipo e escala\n",
        " *  Tipos de Dados\n",
        "* Exploração de dados: \n",
        " *  Estatistica descritiva\n",
        " *  Captura de informacoes como: Frequência, Localizaçao ou tendência central, Dispersao ou espalhamento, Distribuicao ou formato\n",
        " * Ferramentas de visualização (por ex.: Boxplots, Histogramas, Grafico de pizza, Scatter plots, Heatmaps ... )"
      ],
      "id": "impressive-scoop"
    },
    {
      "cell_type": "markdown",
      "metadata": {
        "id": "korean-kernel"
      },
      "source": [
        "# Analise 1 Unidirectional Flow: Dataset 4,5 e 6"
      ],
      "id": "korean-kernel"
    },
    {
      "cell_type": "code",
      "metadata": {
        "id": "progressive-founder"
      },
      "source": [
        "import pandas as pd"
      ],
      "id": "progressive-founder",
      "execution_count": null,
      "outputs": []
    },
    {
      "cell_type": "code",
      "metadata": {
        "id": "working-january"
      },
      "source": [
        "lista = ['V1 size','V2 size','V3 size','V4 size','V5 size','V6 size','V7 size','V8 size','V9 size','V1 interv.','V2 interv.','V3 interv.','V4 interv.','V5 interv.','V6 interv.','V7 interv.','V8 interv.','V9 interv.','classe']"
      ],
      "id": "working-january",
      "execution_count": null,
      "outputs": []
    },
    {
      "cell_type": "code",
      "metadata": {
        "id": "hydraulic-network"
      },
      "source": [
        "#lista = ['Mean_uplink_size','Median_uplink_size','MAD_uplink_size','STD_uplink_size','Skewness_uplink_size','V6_uplink_size','V7_uplink_size','V8_uplink_size','V9_uplink_size','V1_uplink_interval','V2_uplink_interval','V3_uplink_interval','V4_uplink_interval','V5_uplink_interval','V6_uplink_interval','V7_uplink_interval','V8_uplink_interval','V9_uplink_interval','classe']"
      ],
      "id": "hydraulic-network",
      "execution_count": null,
      "outputs": []
    },
    {
      "cell_type": "code",
      "metadata": {
        "id": "acceptable-frost"
      },
      "source": [
        "df_test_4= pd.read_csv('dataset\\dataset4_teste.csv', sep = ',', names=lista)"
      ],
      "id": "acceptable-frost",
      "execution_count": null,
      "outputs": []
    },
    {
      "cell_type": "code",
      "metadata": {
        "id": "several-water"
      },
      "source": [
        "df_test_5= pd.read_csv('dataset\\dataset5_teste.csv', sep = ',', names=lista)"
      ],
      "id": "several-water",
      "execution_count": null,
      "outputs": []
    },
    {
      "cell_type": "code",
      "metadata": {
        "id": "timely-irrigation"
      },
      "source": [
        "df_test_6= pd.read_csv('dataset\\dataset6_teste.csv', sep = ',', names=lista)"
      ],
      "id": "timely-irrigation",
      "execution_count": null,
      "outputs": []
    },
    {
      "cell_type": "code",
      "metadata": {
        "id": "sudden-arrangement"
      },
      "source": [
        "df_train_4= pd.read_csv('dataset\\dataset4_treino.csv', sep = ',', names=lista)"
      ],
      "id": "sudden-arrangement",
      "execution_count": null,
      "outputs": []
    },
    {
      "cell_type": "code",
      "metadata": {
        "id": "commercial-chile"
      },
      "source": [
        "df_train_5= pd.read_csv('dataset\\dataset5_treino.csv', sep = ',', names=lista)"
      ],
      "id": "commercial-chile",
      "execution_count": null,
      "outputs": []
    },
    {
      "cell_type": "code",
      "metadata": {
        "id": "widespread-progress"
      },
      "source": [
        "df_train_6= pd.read_csv('dataset\\dataset6_treino.csv', sep = ',', names=lista)"
      ],
      "id": "widespread-progress",
      "execution_count": null,
      "outputs": []
    },
    {
      "cell_type": "code",
      "metadata": {
        "id": "moderate-underground",
        "outputId": "4de68b8b-e8c0-4072-9712-043e09f97d4c"
      },
      "source": [
        "print(\"Tamanho df teste 4 : \",len(df_test_4))\n",
        "print(\"Tamanho df treino 4 : \",len(df_train_4))\n",
        "print(\"Tamanho df teste 5 : \",len(df_test_5))\n",
        "print(\"Tamanho df treino 5 : \",len(df_train_5))\n",
        "print(\"Tamanho df teste 6 : \",len(df_test_6))\n",
        "print(\"Tamanho df treino 6 : \", len(df_train_6))"
      ],
      "id": "moderate-underground",
      "execution_count": null,
      "outputs": [
        {
          "name": "stdout",
          "output_type": "stream",
          "text": [
            "Tamanho df teste 4 :  1063\n",
            "Tamanho df treino 4 :  10600\n",
            "Tamanho df teste 5 :  1351\n",
            "Tamanho df treino 5 :  13513\n",
            "Tamanho df teste 6 :  7\n",
            "Tamanho df treino 6 :  66\n"
          ]
        }
      ]
    },
    {
      "cell_type": "markdown",
      "metadata": {
        "id": "sustained-drink"
      },
      "source": [
        "## Concatenando os dataframes 4,5 e 6:"
      ],
      "id": "sustained-drink"
    },
    {
      "cell_type": "code",
      "metadata": {
        "id": "advisory-badge"
      },
      "source": [
        "frames = [df_train_4,df_test_4, df_train_5, df_test_5, df_train_6, df_test_6]\n",
        "df_train1 = pd.concat(frames)"
      ],
      "id": "advisory-badge",
      "execution_count": null,
      "outputs": []
    },
    {
      "cell_type": "code",
      "metadata": {
        "id": "alert-teacher",
        "outputId": "18a63158-e9c1-4ecf-9f48-4be8dc3c52d1"
      },
      "source": [
        "len(df_train1)"
      ],
      "id": "alert-teacher",
      "execution_count": null,
      "outputs": [
        {
          "data": {
            "text/plain": [
              "26600"
            ]
          },
          "execution_count": 12,
          "metadata": {},
          "output_type": "execute_result"
        }
      ]
    },
    {
      "cell_type": "code",
      "metadata": {
        "id": "intensive-forth",
        "outputId": "723dd177-17e3-44af-b4fd-11903d8f62a1"
      },
      "source": [
        "df_train1.head()"
      ],
      "id": "intensive-forth",
      "execution_count": null,
      "outputs": [
        {
          "data": {
            "text/html": [
              "<div>\n",
              "<style scoped>\n",
              "    .dataframe tbody tr th:only-of-type {\n",
              "        vertical-align: middle;\n",
              "    }\n",
              "\n",
              "    .dataframe tbody tr th {\n",
              "        vertical-align: top;\n",
              "    }\n",
              "\n",
              "    .dataframe thead th {\n",
              "        text-align: right;\n",
              "    }\n",
              "</style>\n",
              "<table border=\"1\" class=\"dataframe\">\n",
              "  <thead>\n",
              "    <tr style=\"text-align: right;\">\n",
              "      <th></th>\n",
              "      <th>V1 size</th>\n",
              "      <th>V2 size</th>\n",
              "      <th>V3 size</th>\n",
              "      <th>V4 size</th>\n",
              "      <th>V5 size</th>\n",
              "      <th>V6 size</th>\n",
              "      <th>V7 size</th>\n",
              "      <th>V8 size</th>\n",
              "      <th>V9 size</th>\n",
              "      <th>V1 interv.</th>\n",
              "      <th>V2 interv.</th>\n",
              "      <th>V3 interv.</th>\n",
              "      <th>V4 interv.</th>\n",
              "      <th>V5 interv.</th>\n",
              "      <th>V6 interv.</th>\n",
              "      <th>V7 interv.</th>\n",
              "      <th>V8 interv.</th>\n",
              "      <th>V9 interv.</th>\n",
              "      <th>classe</th>\n",
              "    </tr>\n",
              "  </thead>\n",
              "  <tbody>\n",
              "    <tr>\n",
              "      <th>0</th>\n",
              "      <td>0.000438</td>\n",
              "      <td>0.002101</td>\n",
              "      <td>0.000006</td>\n",
              "      <td>0.000003</td>\n",
              "      <td>6.5008</td>\n",
              "      <td>42.76100</td>\n",
              "      <td>0.016319</td>\n",
              "      <td>0.000003</td>\n",
              "      <td>0.002136</td>\n",
              "      <td>759.62</td>\n",
              "      <td>477.050</td>\n",
              "      <td>1130.0</td>\n",
              "      <td>0.000</td>\n",
              "      <td>-0.505190</td>\n",
              "      <td>-1.74200</td>\n",
              "      <td>1130</td>\n",
              "      <td>61</td>\n",
              "      <td>895.730</td>\n",
              "      <td>1</td>\n",
              "    </tr>\n",
              "    <tr>\n",
              "      <th>1</th>\n",
              "      <td>0.000388</td>\n",
              "      <td>0.000783</td>\n",
              "      <td>0.000130</td>\n",
              "      <td>0.000090</td>\n",
              "      <td>2.4140</td>\n",
              "      <td>3.95440</td>\n",
              "      <td>0.002615</td>\n",
              "      <td>0.000000</td>\n",
              "      <td>0.000870</td>\n",
              "      <td>86.32</td>\n",
              "      <td>35.631</td>\n",
              "      <td>62.0</td>\n",
              "      <td>0.000</td>\n",
              "      <td>0.760200</td>\n",
              "      <td>-1.43620</td>\n",
              "      <td>138</td>\n",
              "      <td>62</td>\n",
              "      <td>93.317</td>\n",
              "      <td>1</td>\n",
              "    </tr>\n",
              "    <tr>\n",
              "      <th>2</th>\n",
              "      <td>0.000142</td>\n",
              "      <td>0.000174</td>\n",
              "      <td>0.000100</td>\n",
              "      <td>0.000147</td>\n",
              "      <td>1.3829</td>\n",
              "      <td>0.91272</td>\n",
              "      <td>0.000585</td>\n",
              "      <td>0.000000</td>\n",
              "      <td>0.000224</td>\n",
              "      <td>103.47</td>\n",
              "      <td>40.320</td>\n",
              "      <td>138.0</td>\n",
              "      <td>22.239</td>\n",
              "      <td>-0.036313</td>\n",
              "      <td>-1.95700</td>\n",
              "      <td>153</td>\n",
              "      <td>62</td>\n",
              "      <td>110.970</td>\n",
              "      <td>1</td>\n",
              "    </tr>\n",
              "    <tr>\n",
              "      <th>3</th>\n",
              "      <td>0.000645</td>\n",
              "      <td>0.001331</td>\n",
              "      <td>0.000145</td>\n",
              "      <td>0.000073</td>\n",
              "      <td>3.9211</td>\n",
              "      <td>21.45700</td>\n",
              "      <td>0.009911</td>\n",
              "      <td>0.000007</td>\n",
              "      <td>0.001473</td>\n",
              "      <td>81.76</td>\n",
              "      <td>33.504</td>\n",
              "      <td>62.0</td>\n",
              "      <td>0.000</td>\n",
              "      <td>1.077900</td>\n",
              "      <td>-0.84623</td>\n",
              "      <td>138</td>\n",
              "      <td>62</td>\n",
              "      <td>88.295</td>\n",
              "      <td>1</td>\n",
              "    </tr>\n",
              "    <tr>\n",
              "      <th>4</th>\n",
              "      <td>0.000171</td>\n",
              "      <td>0.000218</td>\n",
              "      <td>0.000127</td>\n",
              "      <td>0.000053</td>\n",
              "      <td>2.6358</td>\n",
              "      <td>6.42960</td>\n",
              "      <td>0.000961</td>\n",
              "      <td>0.000003</td>\n",
              "      <td>0.000277</td>\n",
              "      <td>86.32</td>\n",
              "      <td>35.631</td>\n",
              "      <td>62.0</td>\n",
              "      <td>0.000</td>\n",
              "      <td>0.760200</td>\n",
              "      <td>-1.43620</td>\n",
              "      <td>138</td>\n",
              "      <td>62</td>\n",
              "      <td>93.317</td>\n",
              "      <td>1</td>\n",
              "    </tr>\n",
              "  </tbody>\n",
              "</table>\n",
              "</div>"
            ],
            "text/plain": [
              "    V1 size   V2 size   V3 size   V4 size  V5 size   V6 size   V7 size  \\\n",
              "0  0.000438  0.002101  0.000006  0.000003   6.5008  42.76100  0.016319   \n",
              "1  0.000388  0.000783  0.000130  0.000090   2.4140   3.95440  0.002615   \n",
              "2  0.000142  0.000174  0.000100  0.000147   1.3829   0.91272  0.000585   \n",
              "3  0.000645  0.001331  0.000145  0.000073   3.9211  21.45700  0.009911   \n",
              "4  0.000171  0.000218  0.000127  0.000053   2.6358   6.42960  0.000961   \n",
              "\n",
              "    V8 size   V9 size  V1 interv.  V2 interv.  V3 interv.  V4 interv.  \\\n",
              "0  0.000003  0.002136      759.62     477.050      1130.0       0.000   \n",
              "1  0.000000  0.000870       86.32      35.631        62.0       0.000   \n",
              "2  0.000000  0.000224      103.47      40.320       138.0      22.239   \n",
              "3  0.000007  0.001473       81.76      33.504        62.0       0.000   \n",
              "4  0.000003  0.000277       86.32      35.631        62.0       0.000   \n",
              "\n",
              "   V5 interv.  V6 interv.  V7 interv.  V8 interv.  V9 interv.  classe  \n",
              "0   -0.505190    -1.74200        1130          61     895.730       1  \n",
              "1    0.760200    -1.43620         138          62      93.317       1  \n",
              "2   -0.036313    -1.95700         153          62     110.970       1  \n",
              "3    1.077900    -0.84623         138          62      88.295       1  \n",
              "4    0.760200    -1.43620         138          62      93.317       1  "
            ]
          },
          "execution_count": 13,
          "metadata": {},
          "output_type": "execute_result"
        }
      ]
    },
    {
      "cell_type": "markdown",
      "metadata": {
        "id": "statewide-district"
      },
      "source": [
        "### Substituindo 0 e 1 como Other e UAV"
      ],
      "id": "statewide-district"
    },
    {
      "cell_type": "code",
      "metadata": {
        "id": "offshore-sympathy"
      },
      "source": [
        "df_train1['classe'] = df_train1['classe'].replace([1],'VANT')"
      ],
      "id": "offshore-sympathy",
      "execution_count": null,
      "outputs": []
    },
    {
      "cell_type": "code",
      "metadata": {
        "id": "solar-exploration"
      },
      "source": [
        "df_train1['classe'] = df_train1['classe'].replace([0],'Outro')"
      ],
      "id": "solar-exploration",
      "execution_count": null,
      "outputs": []
    },
    {
      "cell_type": "code",
      "metadata": {
        "id": "limited-dominant",
        "outputId": "3f7b3598-383e-420d-8103-820f8825e4b7"
      },
      "source": [
        "df_train1.head()"
      ],
      "id": "limited-dominant",
      "execution_count": null,
      "outputs": [
        {
          "data": {
            "text/html": [
              "<div>\n",
              "<style scoped>\n",
              "    .dataframe tbody tr th:only-of-type {\n",
              "        vertical-align: middle;\n",
              "    }\n",
              "\n",
              "    .dataframe tbody tr th {\n",
              "        vertical-align: top;\n",
              "    }\n",
              "\n",
              "    .dataframe thead th {\n",
              "        text-align: right;\n",
              "    }\n",
              "</style>\n",
              "<table border=\"1\" class=\"dataframe\">\n",
              "  <thead>\n",
              "    <tr style=\"text-align: right;\">\n",
              "      <th></th>\n",
              "      <th>V1 size</th>\n",
              "      <th>V2 size</th>\n",
              "      <th>V3 size</th>\n",
              "      <th>V4 size</th>\n",
              "      <th>V5 size</th>\n",
              "      <th>V6 size</th>\n",
              "      <th>V7 size</th>\n",
              "      <th>V8 size</th>\n",
              "      <th>V9 size</th>\n",
              "      <th>V1 interv.</th>\n",
              "      <th>V2 interv.</th>\n",
              "      <th>V3 interv.</th>\n",
              "      <th>V4 interv.</th>\n",
              "      <th>V5 interv.</th>\n",
              "      <th>V6 interv.</th>\n",
              "      <th>V7 interv.</th>\n",
              "      <th>V8 interv.</th>\n",
              "      <th>V9 interv.</th>\n",
              "      <th>classe</th>\n",
              "    </tr>\n",
              "  </thead>\n",
              "  <tbody>\n",
              "    <tr>\n",
              "      <th>0</th>\n",
              "      <td>0.000438</td>\n",
              "      <td>0.002101</td>\n",
              "      <td>0.000006</td>\n",
              "      <td>0.000003</td>\n",
              "      <td>6.5008</td>\n",
              "      <td>42.76100</td>\n",
              "      <td>0.016319</td>\n",
              "      <td>0.000003</td>\n",
              "      <td>0.002136</td>\n",
              "      <td>759.62</td>\n",
              "      <td>477.050</td>\n",
              "      <td>1130.0</td>\n",
              "      <td>0.000</td>\n",
              "      <td>-0.505190</td>\n",
              "      <td>-1.74200</td>\n",
              "      <td>1130</td>\n",
              "      <td>61</td>\n",
              "      <td>895.730</td>\n",
              "      <td>VANT</td>\n",
              "    </tr>\n",
              "    <tr>\n",
              "      <th>1</th>\n",
              "      <td>0.000388</td>\n",
              "      <td>0.000783</td>\n",
              "      <td>0.000130</td>\n",
              "      <td>0.000090</td>\n",
              "      <td>2.4140</td>\n",
              "      <td>3.95440</td>\n",
              "      <td>0.002615</td>\n",
              "      <td>0.000000</td>\n",
              "      <td>0.000870</td>\n",
              "      <td>86.32</td>\n",
              "      <td>35.631</td>\n",
              "      <td>62.0</td>\n",
              "      <td>0.000</td>\n",
              "      <td>0.760200</td>\n",
              "      <td>-1.43620</td>\n",
              "      <td>138</td>\n",
              "      <td>62</td>\n",
              "      <td>93.317</td>\n",
              "      <td>VANT</td>\n",
              "    </tr>\n",
              "    <tr>\n",
              "      <th>2</th>\n",
              "      <td>0.000142</td>\n",
              "      <td>0.000174</td>\n",
              "      <td>0.000100</td>\n",
              "      <td>0.000147</td>\n",
              "      <td>1.3829</td>\n",
              "      <td>0.91272</td>\n",
              "      <td>0.000585</td>\n",
              "      <td>0.000000</td>\n",
              "      <td>0.000224</td>\n",
              "      <td>103.47</td>\n",
              "      <td>40.320</td>\n",
              "      <td>138.0</td>\n",
              "      <td>22.239</td>\n",
              "      <td>-0.036313</td>\n",
              "      <td>-1.95700</td>\n",
              "      <td>153</td>\n",
              "      <td>62</td>\n",
              "      <td>110.970</td>\n",
              "      <td>VANT</td>\n",
              "    </tr>\n",
              "    <tr>\n",
              "      <th>3</th>\n",
              "      <td>0.000645</td>\n",
              "      <td>0.001331</td>\n",
              "      <td>0.000145</td>\n",
              "      <td>0.000073</td>\n",
              "      <td>3.9211</td>\n",
              "      <td>21.45700</td>\n",
              "      <td>0.009911</td>\n",
              "      <td>0.000007</td>\n",
              "      <td>0.001473</td>\n",
              "      <td>81.76</td>\n",
              "      <td>33.504</td>\n",
              "      <td>62.0</td>\n",
              "      <td>0.000</td>\n",
              "      <td>1.077900</td>\n",
              "      <td>-0.84623</td>\n",
              "      <td>138</td>\n",
              "      <td>62</td>\n",
              "      <td>88.295</td>\n",
              "      <td>VANT</td>\n",
              "    </tr>\n",
              "    <tr>\n",
              "      <th>4</th>\n",
              "      <td>0.000171</td>\n",
              "      <td>0.000218</td>\n",
              "      <td>0.000127</td>\n",
              "      <td>0.000053</td>\n",
              "      <td>2.6358</td>\n",
              "      <td>6.42960</td>\n",
              "      <td>0.000961</td>\n",
              "      <td>0.000003</td>\n",
              "      <td>0.000277</td>\n",
              "      <td>86.32</td>\n",
              "      <td>35.631</td>\n",
              "      <td>62.0</td>\n",
              "      <td>0.000</td>\n",
              "      <td>0.760200</td>\n",
              "      <td>-1.43620</td>\n",
              "      <td>138</td>\n",
              "      <td>62</td>\n",
              "      <td>93.317</td>\n",
              "      <td>VANT</td>\n",
              "    </tr>\n",
              "  </tbody>\n",
              "</table>\n",
              "</div>"
            ],
            "text/plain": [
              "    V1 size   V2 size   V3 size   V4 size  V5 size   V6 size   V7 size  \\\n",
              "0  0.000438  0.002101  0.000006  0.000003   6.5008  42.76100  0.016319   \n",
              "1  0.000388  0.000783  0.000130  0.000090   2.4140   3.95440  0.002615   \n",
              "2  0.000142  0.000174  0.000100  0.000147   1.3829   0.91272  0.000585   \n",
              "3  0.000645  0.001331  0.000145  0.000073   3.9211  21.45700  0.009911   \n",
              "4  0.000171  0.000218  0.000127  0.000053   2.6358   6.42960  0.000961   \n",
              "\n",
              "    V8 size   V9 size  V1 interv.  V2 interv.  V3 interv.  V4 interv.  \\\n",
              "0  0.000003  0.002136      759.62     477.050      1130.0       0.000   \n",
              "1  0.000000  0.000870       86.32      35.631        62.0       0.000   \n",
              "2  0.000000  0.000224      103.47      40.320       138.0      22.239   \n",
              "3  0.000007  0.001473       81.76      33.504        62.0       0.000   \n",
              "4  0.000003  0.000277       86.32      35.631        62.0       0.000   \n",
              "\n",
              "   V5 interv.  V6 interv.  V7 interv.  V8 interv.  V9 interv. classe  \n",
              "0   -0.505190    -1.74200        1130          61     895.730   VANT  \n",
              "1    0.760200    -1.43620         138          62      93.317   VANT  \n",
              "2   -0.036313    -1.95700         153          62     110.970   VANT  \n",
              "3    1.077900    -0.84623         138          62      88.295   VANT  \n",
              "4    0.760200    -1.43620         138          62      93.317   VANT  "
            ]
          },
          "execution_count": 16,
          "metadata": {},
          "output_type": "execute_result"
        }
      ]
    },
    {
      "cell_type": "markdown",
      "metadata": {
        "id": "raised-recipe"
      },
      "source": [
        "## Analisando se existem campos vazios ou com NaN"
      ],
      "id": "raised-recipe"
    },
    {
      "cell_type": "code",
      "metadata": {
        "id": "upset-story",
        "outputId": "e9c734a8-0e5e-4524-8894-fd34e28d4969"
      },
      "source": [
        "df_train1.isnull().values.any()"
      ],
      "id": "upset-story",
      "execution_count": null,
      "outputs": [
        {
          "data": {
            "text/plain": [
              "False"
            ]
          },
          "execution_count": 17,
          "metadata": {},
          "output_type": "execute_result"
        }
      ]
    },
    {
      "cell_type": "code",
      "metadata": {
        "id": "romantic-search",
        "outputId": "838c05ba-d5bd-40aa-a894-ef01b73a6132"
      },
      "source": [
        "df_train1.isnull().sum()"
      ],
      "id": "romantic-search",
      "execution_count": null,
      "outputs": [
        {
          "data": {
            "text/plain": [
              "V1 size       0\n",
              "V2 size       0\n",
              "V3 size       0\n",
              "V4 size       0\n",
              "V5 size       0\n",
              "V6 size       0\n",
              "V7 size       0\n",
              "V8 size       0\n",
              "V9 size       0\n",
              "V1 interv.    0\n",
              "V2 interv.    0\n",
              "V3 interv.    0\n",
              "V4 interv.    0\n",
              "V5 interv.    0\n",
              "V6 interv.    0\n",
              "V7 interv.    0\n",
              "V8 interv.    0\n",
              "V9 interv.    0\n",
              "classe        0\n",
              "dtype: int64"
            ]
          },
          "execution_count": 18,
          "metadata": {},
          "output_type": "execute_result"
        }
      ]
    },
    {
      "cell_type": "code",
      "metadata": {
        "id": "multiple-immigration",
        "outputId": "df7cd5a8-78f2-492c-8523-4a95ff4dc0d2"
      },
      "source": [
        "print(df_train1.shape)\n",
        "print(df_train1.dropna().shape)\n"
      ],
      "id": "multiple-immigration",
      "execution_count": null,
      "outputs": [
        {
          "name": "stdout",
          "output_type": "stream",
          "text": [
            "(26600, 19)\n",
            "(26600, 19)\n"
          ]
        }
      ]
    },
    {
      "cell_type": "markdown",
      "metadata": {
        "id": "designed-motion"
      },
      "source": [
        "### Podemos notar que não ha valores faltantes ou NaN"
      ],
      "id": "designed-motion"
    },
    {
      "cell_type": "markdown",
      "metadata": {
        "id": "popular-blair"
      },
      "source": [
        "# Investigando o balanceamento dos dados"
      ],
      "id": "popular-blair"
    },
    {
      "cell_type": "code",
      "metadata": {
        "id": "restricted-antique"
      },
      "source": [
        "import seaborn as sns"
      ],
      "id": "restricted-antique",
      "execution_count": null,
      "outputs": []
    },
    {
      "cell_type": "code",
      "metadata": {
        "id": "responsible-uruguay",
        "outputId": "8ef2103a-3200-4778-fead-ec99a18b1f18"
      },
      "source": [
        "df_train1.classe.value_counts(normalize=True).round(3)"
      ],
      "id": "responsible-uruguay",
      "execution_count": null,
      "outputs": [
        {
          "data": {
            "text/plain": [
              "VANT     0.533\n",
              "Outro    0.467\n",
              "Name: classe, dtype: float64"
            ]
          },
          "execution_count": 21,
          "metadata": {},
          "output_type": "execute_result"
        }
      ]
    },
    {
      "cell_type": "code",
      "metadata": {
        "id": "breathing-croatia"
      },
      "source": [
        "targets= df_train1.classe.to_numpy()"
      ],
      "id": "breathing-croatia",
      "execution_count": null,
      "outputs": []
    },
    {
      "cell_type": "code",
      "metadata": {
        "id": "peaceful-destiny",
        "outputId": "6ffe6de9-3bec-489f-df0b-dc78640a32a5"
      },
      "source": [
        "from collections import Counter\n",
        "print(Counter(targets))"
      ],
      "id": "peaceful-destiny",
      "execution_count": null,
      "outputs": [
        {
          "name": "stdout",
          "output_type": "stream",
          "text": [
            "Counter({'VANT': 14171, 'Outro': 12429})\n"
          ]
        }
      ]
    },
    {
      "cell_type": "markdown",
      "metadata": {
        "id": "nervous-minutes"
      },
      "source": [
        "## Vemos que 53% dos objetos são do tipo UAV e 46,7% deles são não UAV"
      ],
      "id": "nervous-minutes"
    },
    {
      "cell_type": "code",
      "metadata": {
        "id": "running-wright",
        "outputId": "71adf760-3a87-4ed8-8e30-82c957955ebd"
      },
      "source": [
        "import matplotlib.pyplot as plt\n",
        "sns.set(font_scale=1.3)\n",
        "sns.set(rc={'figure.figsize':(8,8)})\n",
        "ax = sns.countplot(x=\"classe\", data=df_train1)\n",
        "fig = ax.get_figure()\n",
        "fig.savefig(\"balanceamento_Datasets_456.png\") "
      ],
      "id": "running-wright",
      "execution_count": null,
      "outputs": [
        {
          "data": {
            "image/png": "[encoded data removed]",
            "text/plain": [
              "<Figure size 576x576 with 1 Axes>"
            ]
          },
          "metadata": {},
          "output_type": "display_data"
        }
      ]
    },
    {
      "cell_type": "markdown",
      "metadata": {
        "id": "smoking-montreal"
      },
      "source": [
        "### Investigando dados estatisticos: médias, desvios padrão, quartis q1, q2 e q3, valores maximos, kurtose, obliquidade"
      ],
      "id": "smoking-montreal"
    },
    {
      "cell_type": "code",
      "metadata": {
        "id": "norman-protection",
        "outputId": "100b98be-e5d2-4534-bdd2-5fba0dd07e47"
      },
      "source": [
        "df_train1.describe().round(4)"
      ],
      "id": "norman-protection",
      "execution_count": null,
      "outputs": [
        {
          "data": {
            "text/html": [
              "<div>\n",
              "<style scoped>\n",
              "    .dataframe tbody tr th:only-of-type {\n",
              "        vertical-align: middle;\n",
              "    }\n",
              "\n",
              "    .dataframe tbody tr th {\n",
              "        vertical-align: top;\n",
              "    }\n",
              "\n",
              "    .dataframe thead th {\n",
              "        text-align: right;\n",
              "    }\n",
              "</style>\n",
              "<table border=\"1\" class=\"dataframe\">\n",
              "  <thead>\n",
              "    <tr style=\"text-align: right;\">\n",
              "      <th></th>\n",
              "      <th>V1 size</th>\n",
              "      <th>V2 size</th>\n",
              "      <th>V3 size</th>\n",
              "      <th>V4 size</th>\n",
              "      <th>V5 size</th>\n",
              "      <th>V6 size</th>\n",
              "      <th>V7 size</th>\n",
              "      <th>V8 size</th>\n",
              "      <th>V9 size</th>\n",
              "      <th>V1 interv.</th>\n",
              "      <th>V2 interv.</th>\n",
              "      <th>V3 interv.</th>\n",
              "      <th>V4 interv.</th>\n",
              "      <th>V5 interv.</th>\n",
              "      <th>V6 interv.</th>\n",
              "      <th>V7 interv.</th>\n",
              "      <th>V8 interv.</th>\n",
              "      <th>V9 interv.</th>\n",
              "    </tr>\n",
              "  </thead>\n",
              "  <tbody>\n",
              "    <tr>\n",
              "      <th>count</th>\n",
              "      <td>26600.0000</td>\n",
              "      <td>26600.0000</td>\n",
              "      <td>26600.0000</td>\n",
              "      <td>26600.0000</td>\n",
              "      <td>26600.0000</td>\n",
              "      <td>26600.0000</td>\n",
              "      <td>26600.0000</td>\n",
              "      <td>26600.0000</td>\n",
              "      <td>26600.0000</td>\n",
              "      <td>26600.0000</td>\n",
              "      <td>26600.0000</td>\n",
              "      <td>26600.0000</td>\n",
              "      <td>26600.000</td>\n",
              "      <td>26600.0000</td>\n",
              "      <td>26600.0000</td>\n",
              "      <td>26600.0000</td>\n",
              "      <td>26600.0000</td>\n",
              "      <td>26600.0000</td>\n",
              "    </tr>\n",
              "    <tr>\n",
              "      <th>mean</th>\n",
              "      <td>0.1413</td>\n",
              "      <td>0.8321</td>\n",
              "      <td>0.0092</td>\n",
              "      <td>0.0054</td>\n",
              "      <td>4.0116</td>\n",
              "      <td>23.1255</td>\n",
              "      <td>7.5087</td>\n",
              "      <td>0.0001</td>\n",
              "      <td>0.8450</td>\n",
              "      <td>746.7540</td>\n",
              "      <td>351.6730</td>\n",
              "      <td>863.5097</td>\n",
              "      <td>97.517</td>\n",
              "      <td>-0.5053</td>\n",
              "      <td>4.6564</td>\n",
              "      <td>1121.2766</td>\n",
              "      <td>167.1006</td>\n",
              "      <td>842.8334</td>\n",
              "    </tr>\n",
              "    <tr>\n",
              "      <th>std</th>\n",
              "      <td>2.3531</td>\n",
              "      <td>21.3945</td>\n",
              "      <td>0.5917</td>\n",
              "      <td>0.0485</td>\n",
              "      <td>2.2606</td>\n",
              "      <td>23.7243</td>\n",
              "      <td>213.3520</td>\n",
              "      <td>0.0001</td>\n",
              "      <td>21.4168</td>\n",
              "      <td>514.2398</td>\n",
              "      <td>264.5077</td>\n",
              "      <td>657.7561</td>\n",
              "      <td>192.386</td>\n",
              "      <td>2.2341</td>\n",
              "      <td>14.1061</td>\n",
              "      <td>658.1798</td>\n",
              "      <td>151.6565</td>\n",
              "      <td>550.8321</td>\n",
              "    </tr>\n",
              "    <tr>\n",
              "      <th>min</th>\n",
              "      <td>0.0001</td>\n",
              "      <td>0.0000</td>\n",
              "      <td>0.0000</td>\n",
              "      <td>0.0000</td>\n",
              "      <td>-1.9319</td>\n",
              "      <td>-1.9807</td>\n",
              "      <td>0.0002</td>\n",
              "      <td>0.0000</td>\n",
              "      <td>0.0001</td>\n",
              "      <td>63.5200</td>\n",
              "      <td>0.2000</td>\n",
              "      <td>62.0000</td>\n",
              "      <td>0.000</td>\n",
              "      <td>-9.7020</td>\n",
              "      <td>-2.0199</td>\n",
              "      <td>68.0000</td>\n",
              "      <td>61.0000</td>\n",
              "      <td>63.9810</td>\n",
              "    </tr>\n",
              "    <tr>\n",
              "      <th>25%</th>\n",
              "      <td>0.0013</td>\n",
              "      <td>0.0025</td>\n",
              "      <td>0.0001</td>\n",
              "      <td>0.0001</td>\n",
              "      <td>2.3231</td>\n",
              "      <td>5.7673</td>\n",
              "      <td>0.0166</td>\n",
              "      <td>0.0000</td>\n",
              "      <td>0.0029</td>\n",
              "      <td>123.1475</td>\n",
              "      <td>40.3760</td>\n",
              "      <td>138.0000</td>\n",
              "      <td>0.000</td>\n",
              "      <td>-1.0159</td>\n",
              "      <td>-1.2723</td>\n",
              "      <td>183.0000</td>\n",
              "      <td>76.0000</td>\n",
              "      <td>130.6400</td>\n",
              "    </tr>\n",
              "    <tr>\n",
              "      <th>50%</th>\n",
              "      <td>0.0033</td>\n",
              "      <td>0.0082</td>\n",
              "      <td>0.0003</td>\n",
              "      <td>0.0002</td>\n",
              "      <td>3.4637</td>\n",
              "      <td>13.7380</td>\n",
              "      <td>0.0477</td>\n",
              "      <td>0.0000</td>\n",
              "      <td>0.0093</td>\n",
              "      <td>866.2550</td>\n",
              "      <td>359.4900</td>\n",
              "      <td>1166.0000</td>\n",
              "      <td>0.000</td>\n",
              "      <td>-0.3316</td>\n",
              "      <td>1.1759</td>\n",
              "      <td>1502.0000</td>\n",
              "      <td>76.0000</td>\n",
              "      <td>1083.4000</td>\n",
              "    </tr>\n",
              "    <tr>\n",
              "      <th>75%</th>\n",
              "      <td>0.0122</td>\n",
              "      <td>0.0267</td>\n",
              "      <td>0.0009</td>\n",
              "      <td>0.0008</td>\n",
              "      <td>5.4842</td>\n",
              "      <td>33.7100</td>\n",
              "      <td>0.1515</td>\n",
              "      <td>0.0001</td>\n",
              "      <td>0.0289</td>\n",
              "      <td>1141.1250</td>\n",
              "      <td>618.9500</td>\n",
              "      <td>1476.0000</td>\n",
              "      <td>112.680</td>\n",
              "      <td>0.5807</td>\n",
              "      <td>2.2490</td>\n",
              "      <td>1610.0000</td>\n",
              "      <td>222.0000</td>\n",
              "      <td>1285.5000</td>\n",
              "    </tr>\n",
              "    <tr>\n",
              "      <th>max</th>\n",
              "      <td>149.8700</td>\n",
              "      <td>1492.4000</td>\n",
              "      <td>68.1710</td>\n",
              "      <td>3.9419</td>\n",
              "      <td>9.8493</td>\n",
              "      <td>98.0100</td>\n",
              "      <td>14925.0000</td>\n",
              "      <td>0.0082</td>\n",
              "      <td>1492.5000</td>\n",
              "      <td>1675.7000</td>\n",
              "      <td>761.0700</td>\n",
              "      <td>1676.0000</td>\n",
              "      <td>1136.400</td>\n",
              "      <td>9.8494</td>\n",
              "      <td>98.0100</td>\n",
              "      <td>3468.0000</td>\n",
              "      <td>1676.0000</td>\n",
              "      <td>1675.7000</td>\n",
              "    </tr>\n",
              "  </tbody>\n",
              "</table>\n",
              "</div>"
            ],
            "text/plain": [
              "          V1 size     V2 size     V3 size     V4 size     V5 size     V6 size  \\\n",
              "count  26600.0000  26600.0000  26600.0000  26600.0000  26600.0000  26600.0000   \n",
              "mean       0.1413      0.8321      0.0092      0.0054      4.0116     23.1255   \n",
              "std        2.3531     21.3945      0.5917      0.0485      2.2606     23.7243   \n",
              "min        0.0001      0.0000      0.0000      0.0000     -1.9319     -1.9807   \n",
              "25%        0.0013      0.0025      0.0001      0.0001      2.3231      5.7673   \n",
              "50%        0.0033      0.0082      0.0003      0.0002      3.4637     13.7380   \n",
              "75%        0.0122      0.0267      0.0009      0.0008      5.4842     33.7100   \n",
              "max      149.8700   1492.4000     68.1710      3.9419      9.8493     98.0100   \n",
              "\n",
              "          V7 size     V8 size     V9 size  V1 interv.  V2 interv.  V3 interv.  \\\n",
              "count  26600.0000  26600.0000  26600.0000  26600.0000  26600.0000  26600.0000   \n",
              "mean       7.5087      0.0001      0.8450    746.7540    351.6730    863.5097   \n",
              "std      213.3520      0.0001     21.4168    514.2398    264.5077    657.7561   \n",
              "min        0.0002      0.0000      0.0001     63.5200      0.2000     62.0000   \n",
              "25%        0.0166      0.0000      0.0029    123.1475     40.3760    138.0000   \n",
              "50%        0.0477      0.0000      0.0093    866.2550    359.4900   1166.0000   \n",
              "75%        0.1515      0.0001      0.0289   1141.1250    618.9500   1476.0000   \n",
              "max    14925.0000      0.0082   1492.5000   1675.7000    761.0700   1676.0000   \n",
              "\n",
              "       V4 interv.  V5 interv.  V6 interv.  V7 interv.  V8 interv.  V9 interv.  \n",
              "count   26600.000  26600.0000  26600.0000  26600.0000  26600.0000  26600.0000  \n",
              "mean       97.517     -0.5053      4.6564   1121.2766    167.1006    842.8334  \n",
              "std       192.386      2.2341     14.1061    658.1798    151.6565    550.8321  \n",
              "min         0.000     -9.7020     -2.0199     68.0000     61.0000     63.9810  \n",
              "25%         0.000     -1.0159     -1.2723    183.0000     76.0000    130.6400  \n",
              "50%         0.000     -0.3316      1.1759   1502.0000     76.0000   1083.4000  \n",
              "75%       112.680      0.5807      2.2490   1610.0000    222.0000   1285.5000  \n",
              "max      1136.400      9.8494     98.0100   3468.0000   1676.0000   1675.7000  "
            ]
          },
          "execution_count": 25,
          "metadata": {},
          "output_type": "execute_result"
        }
      ]
    },
    {
      "cell_type": "code",
      "metadata": {
        "id": "drawn-shore",
        "outputId": "942523d7-a51d-4d44-fa07-32a6b92059d3"
      },
      "source": [
        "df_train1.info()"
      ],
      "id": "drawn-shore",
      "execution_count": null,
      "outputs": [
        {
          "name": "stdout",
          "output_type": "stream",
          "text": [
            "<class 'pandas.core.frame.DataFrame'>\n",
            "Int64Index: 26600 entries, 0 to 6\n",
            "Data columns (total 19 columns):\n",
            " #   Column      Non-Null Count  Dtype  \n",
            "---  ------      --------------  -----  \n",
            " 0   V1 size     26600 non-null  float64\n",
            " 1   V2 size     26600 non-null  float64\n",
            " 2   V3 size     26600 non-null  float64\n",
            " 3   V4 size     26600 non-null  float64\n",
            " 4   V5 size     26600 non-null  float64\n",
            " 5   V6 size     26600 non-null  float64\n",
            " 6   V7 size     26600 non-null  float64\n",
            " 7   V8 size     26600 non-null  float64\n",
            " 8   V9 size     26600 non-null  float64\n",
            " 9   V1 interv.  26600 non-null  float64\n",
            " 10  V2 interv.  26600 non-null  float64\n",
            " 11  V3 interv.  26600 non-null  float64\n",
            " 12  V4 interv.  26600 non-null  float64\n",
            " 13  V5 interv.  26600 non-null  float64\n",
            " 14  V6 interv.  26600 non-null  float64\n",
            " 15  V7 interv.  26600 non-null  int64  \n",
            " 16  V8 interv.  26600 non-null  int64  \n",
            " 17  V9 interv.  26600 non-null  float64\n",
            " 18  classe      26600 non-null  object \n",
            "dtypes: float64(16), int64(2), object(1)\n",
            "memory usage: 4.6+ MB\n"
          ]
        }
      ]
    },
    {
      "cell_type": "code",
      "metadata": {
        "id": "wicked-blind"
      },
      "source": [
        "description = df_train1.describe().round(4)"
      ],
      "id": "wicked-blind",
      "execution_count": null,
      "outputs": []
    },
    {
      "cell_type": "code",
      "metadata": {
        "id": "lonely-brass"
      },
      "source": [
        "description.to_csv(\"my_description456linha.csv\")"
      ],
      "id": "lonely-brass",
      "execution_count": null,
      "outputs": []
    },
    {
      "cell_type": "code",
      "metadata": {
        "id": "mathematical-favor",
        "outputId": "e304c890-2185-4077-8ea8-a8be88d0c8bf"
      },
      "source": [
        "df_train1.var()"
      ],
      "id": "mathematical-favor",
      "execution_count": null,
      "outputs": [
        {
          "data": {
            "text/plain": [
              "V1 size       5.536965e+00\n",
              "V2 size       4.577255e+02\n",
              "V3 size       3.500920e-01\n",
              "V4 size       2.351920e-03\n",
              "V5 size       5.110250e+00\n",
              "V6 size       5.628427e+02\n",
              "V7 size       4.551910e+04\n",
              "V8 size       2.030163e-08\n",
              "V9 size       4.586790e+02\n",
              "V1 interv.    2.644426e+05\n",
              "V2 interv.    6.996434e+04\n",
              "V3 interv.    4.326431e+05\n",
              "V4 interv.    3.701237e+04\n",
              "V5 interv.    4.990980e+00\n",
              "V6 interv.    1.989807e+02\n",
              "V7 interv.    4.332006e+05\n",
              "V8 interv.    2.299970e+04\n",
              "V9 interv.    3.034161e+05\n",
              "dtype: float64"
            ]
          },
          "execution_count": 29,
          "metadata": {},
          "output_type": "execute_result"
        }
      ]
    },
    {
      "cell_type": "code",
      "metadata": {
        "id": "induced-vegetation"
      },
      "source": [
        "skewness = df_train1.skew().round(4)"
      ],
      "id": "induced-vegetation",
      "execution_count": null,
      "outputs": []
    },
    {
      "cell_type": "code",
      "metadata": {
        "id": "configured-observer",
        "outputId": "5be4f90a-15fc-4618-d2e4-e22af6159981"
      },
      "source": [
        "df_train1.skew().round(4)"
      ],
      "id": "configured-observer",
      "execution_count": null,
      "outputs": [
        {
          "data": {
            "text/plain": [
              "V1 size        42.3114\n",
              "V2 size        48.1196\n",
              "V3 size       114.9621\n",
              "V4 size        47.2162\n",
              "V5 size         0.7266\n",
              "V6 size         1.3725\n",
              "V7 size        48.4269\n",
              "V8 size        20.7556\n",
              "V9 size        48.0160\n",
              "V1 interv.      0.0228\n",
              "V2 interv.      0.0022\n",
              "V3 interv.     -0.0752\n",
              "V4 interv.      2.7070\n",
              "V5 interv.     -0.8213\n",
              "V6 interv.      4.4754\n",
              "V7 interv.     -0.7094\n",
              "V8 interv.      3.9658\n",
              "V9 interv.     -0.2779\n",
              "dtype: float64"
            ]
          },
          "execution_count": 31,
          "metadata": {},
          "output_type": "execute_result"
        }
      ]
    },
    {
      "cell_type": "code",
      "metadata": {
        "id": "monthly-parcel"
      },
      "source": [
        "skewness.to_csv(\"skeness456linha.csv\")"
      ],
      "id": "monthly-parcel",
      "execution_count": null,
      "outputs": []
    },
    {
      "cell_type": "code",
      "metadata": {
        "id": "universal-modern",
        "outputId": "beb8a3b1-318b-42d2-e46c-ef1b1cc01a2d"
      },
      "source": [
        "df_train1.kurtosis()"
      ],
      "id": "universal-modern",
      "execution_count": null,
      "outputs": [
        {
          "data": {
            "text/plain": [
              "V1 size        1986.326023\n",
              "V2 size        2558.709610\n",
              "V3 size       13242.331810\n",
              "V4 size        3410.116712\n",
              "V5 size          -0.218241\n",
              "V6 size           1.012844\n",
              "V7 size        2585.214505\n",
              "V8 size         979.722630\n",
              "V9 size        2549.394717\n",
              "V1 interv.       -1.367117\n",
              "V2 interv.       -1.614993\n",
              "V3 interv.       -1.823425\n",
              "V4 interv.        7.930638\n",
              "V5 interv.        4.768366\n",
              "V6 interv.       22.253497\n",
              "V7 interv.       -1.405862\n",
              "V8 interv.       24.735536\n",
              "V9 interv.       -1.531201\n",
              "dtype: float64"
            ]
          },
          "execution_count": 33,
          "metadata": {},
          "output_type": "execute_result"
        }
      ]
    },
    {
      "cell_type": "code",
      "metadata": {
        "id": "impaired-meaning"
      },
      "source": [
        "kurts = df_train1.kurtosis()"
      ],
      "id": "impaired-meaning",
      "execution_count": null,
      "outputs": []
    },
    {
      "cell_type": "code",
      "metadata": {
        "id": "coordinate-joseph"
      },
      "source": [
        "kurts.to_csv(\"kurtosis456.csv\")"
      ],
      "id": "coordinate-joseph",
      "execution_count": null,
      "outputs": []
    },
    {
      "cell_type": "markdown",
      "metadata": {
        "id": "unusual-minority"
      },
      "source": [
        "# Investigando correlações:"
      ],
      "id": "unusual-minority"
    },
    {
      "cell_type": "markdown",
      "metadata": {
        "id": "nutritional-living"
      },
      "source": [
        "# I) Scatter plots"
      ],
      "id": "nutritional-living"
    },
    {
      "cell_type": "markdown",
      "metadata": {
        "id": "brilliant-probability"
      },
      "source": [
        "## Correlações uplink_size- uplink_interval"
      ],
      "id": "brilliant-probability"
    },
    {
      "cell_type": "code",
      "metadata": {
        "id": "visible-relief"
      },
      "source": [
        "y= df_train1.classe.to_numpy()"
      ],
      "id": "visible-relief",
      "execution_count": null,
      "outputs": []
    },
    {
      "cell_type": "code",
      "metadata": {
        "id": "naughty-shelter",
        "outputId": "993d994d-5253-4463-d9e2-d399c0ea5119"
      },
      "source": [
        "y"
      ],
      "id": "naughty-shelter",
      "execution_count": null,
      "outputs": [
        {
          "data": {
            "text/plain": [
              "array(['VANT', 'VANT', 'VANT', ..., 'VANT', 'VANT', 'VANT'], dtype=object)"
            ]
          },
          "execution_count": 37,
          "metadata": {},
          "output_type": "execute_result"
        }
      ]
    },
    {
      "cell_type": "code",
      "metadata": {
        "id": "macro-croatia",
        "outputId": "ffa260cc-66fd-4ca5-95e1-99ceffd6313f"
      },
      "source": [
        "print(df_train1.keys())"
      ],
      "id": "macro-croatia",
      "execution_count": null,
      "outputs": [
        {
          "name": "stdout",
          "output_type": "stream",
          "text": [
            "Index(['V1 size', 'V2 size', 'V3 size', 'V4 size', 'V5 size', 'V6 size',\n",
            "       'V7 size', 'V8 size', 'V9 size', 'V1 interv.', 'V2 interv.',\n",
            "       'V3 interv.', 'V4 interv.', 'V5 interv.', 'V6 interv.', 'V7 interv.',\n",
            "       'V8 interv.', 'V9 interv.', 'classe'],\n",
            "      dtype='object')\n"
          ]
        }
      ]
    },
    {
      "cell_type": "markdown",
      "metadata": {
        "id": "invisible-whole"
      },
      "source": [
        "## Uplink_size: Grafico Matriz de scatterplot"
      ],
      "id": "invisible-whole"
    },
    {
      "cell_type": "code",
      "metadata": {
        "id": "medical-longitude",
        "outputId": "6c7d6ef4-9b83-4b79-a934-174c6206091c"
      },
      "source": [
        "import numpy as np\n",
        "\n",
        "attributes = lista\n",
        "attributes = attributes[0:9]\n",
        "\n",
        "plt.style.use('ggplot')\n",
        "colors_palette = {'Outro': 'blue', 'VANT': 'green'}\n",
        "groups = list(y)\n",
        "colors = [colors_palette[c] for c in groups]\n",
        "\n",
        "\n",
        "axes = pd.plotting.scatter_matrix(df_train1[attributes],c=colors, figsize=(10, 10),s=40,marker='D')\n",
        "\n",
        "\n",
        "#for ax in axes.flatten():\n",
        "#    ax.xaxis.label.set_rotation(90)\n",
        "#    ax.yaxis.label.set_rotation(0)\n",
        "#    ax.yaxis.label.set_ha('right')\n",
        "    \n",
        "for ax in axes.ravel():\n",
        "    ax.set_xlabel(ax.get_xlabel(), fontsize = 15, rotation = 90)\n",
        "    ax.set_ylabel(ax.get_ylabel(), fontsize = 15, rotation = 0)\n",
        "    \n",
        "plt.savefig(\"ScatterMatrix1_Datasets_456.png\")\n"
      ],
      "id": "medical-longitude",
      "execution_count": null,
      "outputs": [
        {
          "data": {
            "image/png": "[encoded data removed]",
            "text/plain": [
              "<Figure size 720x720 with 81 Axes>"
            ]
          },
          "metadata": {},
          "output_type": "display_data"
        }
      ]
    },
    {
      "cell_type": "markdown",
      "metadata": {
        "id": "hispanic-singles"
      },
      "source": [
        "# Uplink_interval"
      ],
      "id": "hispanic-singles"
    },
    {
      "cell_type": "code",
      "metadata": {
        "id": "healthy-convenience",
        "outputId": "3edf74b5-e931-44c1-bd0f-4604fd5523f2"
      },
      "source": [
        "attributes = lista\n",
        "attributes = attributes[9:18]\n",
        "plt.style.use('ggplot')\n",
        "colors_palette = {'Outro': 'blue', 'VANT': 'green'}\n",
        "groups = list(y)\n",
        "colors = [colors_palette[c] for c in groups]\n",
        "\n",
        "axes = pd.plotting.scatter_matrix(df_train1[attributes],c=colors,figsize=[10,10],s=30,marker='D')\n",
        "\n",
        "#for ax in axes.flatten():\n",
        "#    ax.xaxis.label.set_rotation(90)\n",
        "#    ax.yaxis.label.set_rotation(0)\n",
        "#    ax.yaxis.label.set_ha('right')\n",
        "\n",
        "for ax in axes.ravel():\n",
        "    ax.set_xlabel(ax.get_xlabel(), fontsize = 14, rotation = 90)\n",
        "    ax.set_ylabel(ax.get_ylabel(), fontsize = 14, rotation = 0)\n",
        "    \n",
        "plt.savefig(\"ScatterMatrix3_Datasets_456.png\")"
      ],
      "id": "healthy-convenience",
      "execution_count": null,
      "outputs": [
        {
          "data": {
            "image/png": "[encoded data removed]",
            "text/plain": [
              "<Figure size 720x720 with 81 Axes>"
            ]
          },
          "metadata": {},
          "output_type": "display_data"
        }
      ]
    },
    {
      "cell_type": "markdown",
      "metadata": {
        "id": "fantastic-discussion"
      },
      "source": [
        "## 2) Investigando correlações em Heatmaps"
      ],
      "id": "fantastic-discussion"
    },
    {
      "cell_type": "code",
      "metadata": {
        "id": "diagnostic-sequence"
      },
      "source": [
        "df_train1['classe'] = df_train1['classe'].replace('VANT',1)"
      ],
      "id": "diagnostic-sequence",
      "execution_count": null,
      "outputs": []
    },
    {
      "cell_type": "code",
      "metadata": {
        "id": "legislative-music"
      },
      "source": [
        "df_train1['classe'] = df_train1['classe'].replace('Outro',0)"
      ],
      "id": "legislative-music",
      "execution_count": null,
      "outputs": []
    },
    {
      "cell_type": "code",
      "metadata": {
        "id": "israeli-bibliography"
      },
      "source": [
        "y= df_train1.classe.to_numpy()"
      ],
      "id": "israeli-bibliography",
      "execution_count": null,
      "outputs": []
    },
    {
      "cell_type": "code",
      "metadata": {
        "id": "intensive-slope"
      },
      "source": [
        "#df_train1 = df_train1.drop(['classe'], axis=1)"
      ],
      "id": "intensive-slope",
      "execution_count": null,
      "outputs": []
    },
    {
      "cell_type": "code",
      "metadata": {
        "id": "lesser-chest",
        "outputId": "2cf69864-5d99-4bcd-9ef2-610a9cebd7a7"
      },
      "source": [
        "df_train1.head()"
      ],
      "id": "lesser-chest",
      "execution_count": null,
      "outputs": [
        {
          "data": {
            "text/html": [
              "<div>\n",
              "<style scoped>\n",
              "    .dataframe tbody tr th:only-of-type {\n",
              "        vertical-align: middle;\n",
              "    }\n",
              "\n",
              "    .dataframe tbody tr th {\n",
              "        vertical-align: top;\n",
              "    }\n",
              "\n",
              "    .dataframe thead th {\n",
              "        text-align: right;\n",
              "    }\n",
              "</style>\n",
              "<table border=\"1\" class=\"dataframe\">\n",
              "  <thead>\n",
              "    <tr style=\"text-align: right;\">\n",
              "      <th></th>\n",
              "      <th>V1 size</th>\n",
              "      <th>V2 size</th>\n",
              "      <th>V3 size</th>\n",
              "      <th>V4 size</th>\n",
              "      <th>V5 size</th>\n",
              "      <th>V6 size</th>\n",
              "      <th>V7 size</th>\n",
              "      <th>V8 size</th>\n",
              "      <th>V9 size</th>\n",
              "      <th>V1 interv.</th>\n",
              "      <th>V2 interv.</th>\n",
              "      <th>V3 interv.</th>\n",
              "      <th>V4 interv.</th>\n",
              "      <th>V5 interv.</th>\n",
              "      <th>V6 interv.</th>\n",
              "      <th>V7 interv.</th>\n",
              "      <th>V8 interv.</th>\n",
              "      <th>V9 interv.</th>\n",
              "      <th>classe</th>\n",
              "    </tr>\n",
              "  </thead>\n",
              "  <tbody>\n",
              "    <tr>\n",
              "      <th>0</th>\n",
              "      <td>0.000438</td>\n",
              "      <td>0.002101</td>\n",
              "      <td>0.000006</td>\n",
              "      <td>0.000003</td>\n",
              "      <td>6.5008</td>\n",
              "      <td>42.76100</td>\n",
              "      <td>0.016319</td>\n",
              "      <td>0.000003</td>\n",
              "      <td>0.002136</td>\n",
              "      <td>759.62</td>\n",
              "      <td>477.050</td>\n",
              "      <td>1130.0</td>\n",
              "      <td>0.000</td>\n",
              "      <td>-0.505190</td>\n",
              "      <td>-1.74200</td>\n",
              "      <td>1130</td>\n",
              "      <td>61</td>\n",
              "      <td>895.730</td>\n",
              "      <td>1</td>\n",
              "    </tr>\n",
              "    <tr>\n",
              "      <th>1</th>\n",
              "      <td>0.000388</td>\n",
              "      <td>0.000783</td>\n",
              "      <td>0.000130</td>\n",
              "      <td>0.000090</td>\n",
              "      <td>2.4140</td>\n",
              "      <td>3.95440</td>\n",
              "      <td>0.002615</td>\n",
              "      <td>0.000000</td>\n",
              "      <td>0.000870</td>\n",
              "      <td>86.32</td>\n",
              "      <td>35.631</td>\n",
              "      <td>62.0</td>\n",
              "      <td>0.000</td>\n",
              "      <td>0.760200</td>\n",
              "      <td>-1.43620</td>\n",
              "      <td>138</td>\n",
              "      <td>62</td>\n",
              "      <td>93.317</td>\n",
              "      <td>1</td>\n",
              "    </tr>\n",
              "    <tr>\n",
              "      <th>2</th>\n",
              "      <td>0.000142</td>\n",
              "      <td>0.000174</td>\n",
              "      <td>0.000100</td>\n",
              "      <td>0.000147</td>\n",
              "      <td>1.3829</td>\n",
              "      <td>0.91272</td>\n",
              "      <td>0.000585</td>\n",
              "      <td>0.000000</td>\n",
              "      <td>0.000224</td>\n",
              "      <td>103.47</td>\n",
              "      <td>40.320</td>\n",
              "      <td>138.0</td>\n",
              "      <td>22.239</td>\n",
              "      <td>-0.036313</td>\n",
              "      <td>-1.95700</td>\n",
              "      <td>153</td>\n",
              "      <td>62</td>\n",
              "      <td>110.970</td>\n",
              "      <td>1</td>\n",
              "    </tr>\n",
              "    <tr>\n",
              "      <th>3</th>\n",
              "      <td>0.000645</td>\n",
              "      <td>0.001331</td>\n",
              "      <td>0.000145</td>\n",
              "      <td>0.000073</td>\n",
              "      <td>3.9211</td>\n",
              "      <td>21.45700</td>\n",
              "      <td>0.009911</td>\n",
              "      <td>0.000007</td>\n",
              "      <td>0.001473</td>\n",
              "      <td>81.76</td>\n",
              "      <td>33.504</td>\n",
              "      <td>62.0</td>\n",
              "      <td>0.000</td>\n",
              "      <td>1.077900</td>\n",
              "      <td>-0.84623</td>\n",
              "      <td>138</td>\n",
              "      <td>62</td>\n",
              "      <td>88.295</td>\n",
              "      <td>1</td>\n",
              "    </tr>\n",
              "    <tr>\n",
              "      <th>4</th>\n",
              "      <td>0.000171</td>\n",
              "      <td>0.000218</td>\n",
              "      <td>0.000127</td>\n",
              "      <td>0.000053</td>\n",
              "      <td>2.6358</td>\n",
              "      <td>6.42960</td>\n",
              "      <td>0.000961</td>\n",
              "      <td>0.000003</td>\n",
              "      <td>0.000277</td>\n",
              "      <td>86.32</td>\n",
              "      <td>35.631</td>\n",
              "      <td>62.0</td>\n",
              "      <td>0.000</td>\n",
              "      <td>0.760200</td>\n",
              "      <td>-1.43620</td>\n",
              "      <td>138</td>\n",
              "      <td>62</td>\n",
              "      <td>93.317</td>\n",
              "      <td>1</td>\n",
              "    </tr>\n",
              "  </tbody>\n",
              "</table>\n",
              "</div>"
            ],
            "text/plain": [
              "    V1 size   V2 size   V3 size   V4 size  V5 size   V6 size   V7 size  \\\n",
              "0  0.000438  0.002101  0.000006  0.000003   6.5008  42.76100  0.016319   \n",
              "1  0.000388  0.000783  0.000130  0.000090   2.4140   3.95440  0.002615   \n",
              "2  0.000142  0.000174  0.000100  0.000147   1.3829   0.91272  0.000585   \n",
              "3  0.000645  0.001331  0.000145  0.000073   3.9211  21.45700  0.009911   \n",
              "4  0.000171  0.000218  0.000127  0.000053   2.6358   6.42960  0.000961   \n",
              "\n",
              "    V8 size   V9 size  V1 interv.  V2 interv.  V3 interv.  V4 interv.  \\\n",
              "0  0.000003  0.002136      759.62     477.050      1130.0       0.000   \n",
              "1  0.000000  0.000870       86.32      35.631        62.0       0.000   \n",
              "2  0.000000  0.000224      103.47      40.320       138.0      22.239   \n",
              "3  0.000007  0.001473       81.76      33.504        62.0       0.000   \n",
              "4  0.000003  0.000277       86.32      35.631        62.0       0.000   \n",
              "\n",
              "   V5 interv.  V6 interv.  V7 interv.  V8 interv.  V9 interv.  classe  \n",
              "0   -0.505190    -1.74200        1130          61     895.730       1  \n",
              "1    0.760200    -1.43620         138          62      93.317       1  \n",
              "2   -0.036313    -1.95700         153          62     110.970       1  \n",
              "3    1.077900    -0.84623         138          62      88.295       1  \n",
              "4    0.760200    -1.43620         138          62      93.317       1  "
            ]
          },
          "execution_count": 43,
          "metadata": {},
          "output_type": "execute_result"
        }
      ]
    },
    {
      "cell_type": "code",
      "metadata": {
        "id": "pharmaceutical-currency"
      },
      "source": [
        "df_corr = df_train1.drop(['classe'],axis=1)\n"
      ],
      "id": "pharmaceutical-currency",
      "execution_count": null,
      "outputs": []
    },
    {
      "cell_type": "code",
      "metadata": {
        "id": "compound-variable"
      },
      "source": [
        "#from sklearn.preprocessing import Normalizer\n",
        "#normalizeddf_train = Normalizer().fit_transform(df_train1)"
      ],
      "id": "compound-variable",
      "execution_count": null,
      "outputs": []
    },
    {
      "cell_type": "code",
      "metadata": {
        "id": "acquired-turkish"
      },
      "source": [
        "#normalizeddf_train"
      ],
      "id": "acquired-turkish",
      "execution_count": null,
      "outputs": []
    },
    {
      "cell_type": "markdown",
      "metadata": {
        "id": "funded-repair"
      },
      "source": [
        "## 1: Correlações de Pearson"
      ],
      "id": "funded-repair"
    },
    {
      "cell_type": "code",
      "metadata": {
        "id": "functional-luther",
        "outputId": "ff462436-1775-40cb-c0c4-d84857e690a4"
      },
      "source": [
        "import seaborn as sns\n",
        "\n",
        "sns.set(font_scale=1.3)\n",
        "\n",
        "corr = df_corr.corr(method = 'pearson')\n",
        "ax = sns.heatmap(\n",
        "    corr, \n",
        "    vmin=-1, vmax=1, center=0,\n",
        "    cmap=sns.diverging_palette(20, 220, n=200),\n",
        "    square=True\n",
        ")\n",
        "ax.set_xticklabels(\n",
        "    ax.get_xticklabels(),\n",
        "    rotation=90,\n",
        "    horizontalalignment='center'\n",
        ");\n",
        "\n",
        "\n",
        "\n",
        "sns.set(rc={'figure.figsize':(8,8)})\n",
        "\n",
        "fig = ax.get_figure()\n",
        "fig.savefig(\"Heatmap_Datasets_456_pearson_improved.png\") "
      ],
      "id": "functional-luther",
      "execution_count": null,
      "outputs": [
        {
          "data": {
            "image/png": "[encoded data removed]",
            "text/plain": [
              "<Figure size 720x720 with 2 Axes>"
            ]
          },
          "metadata": {},
          "output_type": "display_data"
        }
      ]
    },
    {
      "cell_type": "markdown",
      "metadata": {
        "id": "interpreted-bearing"
      },
      "source": [
        "## Correlações de Spearman"
      ],
      "id": "interpreted-bearing"
    },
    {
      "cell_type": "code",
      "metadata": {
        "id": "another-dance",
        "outputId": "a7401216-4f78-4439-b719-0ab469a11d47"
      },
      "source": [
        "import seaborn as sns\n",
        "\n",
        "sns.set(font_scale=1.2)\n",
        "\n",
        "corr = df_corr.corr(method = 'spearman')\n",
        "ax = sns.heatmap(\n",
        "    corr, \n",
        "    vmin=-1, vmax=1, center=0,\n",
        "    cmap=sns.diverging_palette(20, 220, n=200),\n",
        "    square=True\n",
        ")\n",
        "ax.set_xticklabels(\n",
        "    ax.get_xticklabels(),\n",
        "    rotation=90,\n",
        "    horizontalalignment='right'\n",
        ");\n",
        "\n",
        "sns.set(rc={'figure.figsize':(10,10)})\n",
        "\n",
        "fig = ax.get_figure()\n",
        "fig.savefig(\"Heatmap_Datasets_456_spearman_improved.png\") \n"
      ],
      "id": "another-dance",
      "execution_count": null,
      "outputs": [
        {
          "data": {
            "image/png": "[encoded data removed]",
            "text/plain": [
              "<Figure size 576x576 with 2 Axes>"
            ]
          },
          "metadata": {},
          "output_type": "display_data"
        }
      ]
    },
    {
      "cell_type": "markdown",
      "metadata": {
        "id": "outside-tyler"
      },
      "source": [
        "# Pré-processamento"
      ],
      "id": "outside-tyler"
    },
    {
      "cell_type": "markdown",
      "metadata": {
        "id": "considered-reset"
      },
      "source": [
        "## Abordagens utilizadas\n",
        "- Dados desbalanceados\n",
        "- Normalização: Na tabela de dados estatisticos, podemos notar que os valores dos atributos estão em escalas bastante diferentes. (\"Outra transformação muito utilizada é a normalização de dados. A normalização de dados é recomendável quando os limites de valores de atributos distintos são muito diferentes, para evitar que um atributo predomine sobre outro (a menos que isso seja importante\")\n",
        "- Redução de dimensionalidade? Verificar a importância de cada atributo (Agregação ou seleção de atributos)"
      ],
      "id": "considered-reset"
    },
    {
      "cell_type": "markdown",
      "metadata": {
        "id": "normal-control"
      },
      "source": [
        "## 1 - Eliminando valores duplicados"
      ],
      "id": "normal-control"
    },
    {
      "cell_type": "code",
      "metadata": {
        "id": "encouraging-karma"
      },
      "source": [
        "df_train_noduplicates = df_train1.drop_duplicates()"
      ],
      "id": "encouraging-karma",
      "execution_count": null,
      "outputs": []
    },
    {
      "cell_type": "code",
      "metadata": {
        "id": "interior-product",
        "outputId": "93013c97-9c45-4f9b-c974-533bfa2edb7b"
      },
      "source": [
        "df_train_noduplicates.shape"
      ],
      "id": "interior-product",
      "execution_count": null,
      "outputs": [
        {
          "data": {
            "text/plain": [
              "(23181, 19)"
            ]
          },
          "execution_count": 45,
          "metadata": {},
          "output_type": "execute_result"
        }
      ]
    },
    {
      "cell_type": "code",
      "metadata": {
        "id": "colonial-liability",
        "outputId": "bee51b98-7101-4228-bae8-ee8082d9f6f1"
      },
      "source": [
        "df_train_noduplicates"
      ],
      "id": "colonial-liability",
      "execution_count": null,
      "outputs": [
        {
          "data": {
            "text/html": [
              "<div>\n",
              "<style scoped>\n",
              "    .dataframe tbody tr th:only-of-type {\n",
              "        vertical-align: middle;\n",
              "    }\n",
              "\n",
              "    .dataframe tbody tr th {\n",
              "        vertical-align: top;\n",
              "    }\n",
              "\n",
              "    .dataframe thead th {\n",
              "        text-align: right;\n",
              "    }\n",
              "</style>\n",
              "<table border=\"1\" class=\"dataframe\">\n",
              "  <thead>\n",
              "    <tr style=\"text-align: right;\">\n",
              "      <th></th>\n",
              "      <th>V1 size</th>\n",
              "      <th>V2 size</th>\n",
              "      <th>V3 size</th>\n",
              "      <th>V4 size</th>\n",
              "      <th>V5 size</th>\n",
              "      <th>V6 size</th>\n",
              "      <th>V7 size</th>\n",
              "      <th>V8 size</th>\n",
              "      <th>V9 size</th>\n",
              "      <th>V1 interv.</th>\n",
              "      <th>V2 interv.</th>\n",
              "      <th>V3 interv.</th>\n",
              "      <th>V4 interv.</th>\n",
              "      <th>V5 interv.</th>\n",
              "      <th>V6 interv.</th>\n",
              "      <th>V7 interv.</th>\n",
              "      <th>V8 interv.</th>\n",
              "      <th>V9 interv.</th>\n",
              "      <th>classe</th>\n",
              "    </tr>\n",
              "  </thead>\n",
              "  <tbody>\n",
              "    <tr>\n",
              "      <th>0</th>\n",
              "      <td>0.000438</td>\n",
              "      <td>0.002101</td>\n",
              "      <td>0.000006</td>\n",
              "      <td>0.000003</td>\n",
              "      <td>6.5008</td>\n",
              "      <td>42.76100</td>\n",
              "      <td>0.016319</td>\n",
              "      <td>0.000003</td>\n",
              "      <td>0.002136</td>\n",
              "      <td>759.62</td>\n",
              "      <td>477.0500</td>\n",
              "      <td>1130.0</td>\n",
              "      <td>0.000</td>\n",
              "      <td>-0.505190</td>\n",
              "      <td>-1.74200</td>\n",
              "      <td>1130</td>\n",
              "      <td>61</td>\n",
              "      <td>895.730</td>\n",
              "      <td>1</td>\n",
              "    </tr>\n",
              "    <tr>\n",
              "      <th>1</th>\n",
              "      <td>0.000388</td>\n",
              "      <td>0.000783</td>\n",
              "      <td>0.000130</td>\n",
              "      <td>0.000090</td>\n",
              "      <td>2.4140</td>\n",
              "      <td>3.95440</td>\n",
              "      <td>0.002615</td>\n",
              "      <td>0.000000</td>\n",
              "      <td>0.000870</td>\n",
              "      <td>86.32</td>\n",
              "      <td>35.6310</td>\n",
              "      <td>62.0</td>\n",
              "      <td>0.000</td>\n",
              "      <td>0.760200</td>\n",
              "      <td>-1.43620</td>\n",
              "      <td>138</td>\n",
              "      <td>62</td>\n",
              "      <td>93.317</td>\n",
              "      <td>1</td>\n",
              "    </tr>\n",
              "    <tr>\n",
              "      <th>2</th>\n",
              "      <td>0.000142</td>\n",
              "      <td>0.000174</td>\n",
              "      <td>0.000100</td>\n",
              "      <td>0.000147</td>\n",
              "      <td>1.3829</td>\n",
              "      <td>0.91272</td>\n",
              "      <td>0.000585</td>\n",
              "      <td>0.000000</td>\n",
              "      <td>0.000224</td>\n",
              "      <td>103.47</td>\n",
              "      <td>40.3200</td>\n",
              "      <td>138.0</td>\n",
              "      <td>22.239</td>\n",
              "      <td>-0.036313</td>\n",
              "      <td>-1.95700</td>\n",
              "      <td>153</td>\n",
              "      <td>62</td>\n",
              "      <td>110.970</td>\n",
              "      <td>1</td>\n",
              "    </tr>\n",
              "    <tr>\n",
              "      <th>3</th>\n",
              "      <td>0.000645</td>\n",
              "      <td>0.001331</td>\n",
              "      <td>0.000145</td>\n",
              "      <td>0.000073</td>\n",
              "      <td>3.9211</td>\n",
              "      <td>21.45700</td>\n",
              "      <td>0.009911</td>\n",
              "      <td>0.000007</td>\n",
              "      <td>0.001473</td>\n",
              "      <td>81.76</td>\n",
              "      <td>33.5040</td>\n",
              "      <td>62.0</td>\n",
              "      <td>0.000</td>\n",
              "      <td>1.077900</td>\n",
              "      <td>-0.84623</td>\n",
              "      <td>138</td>\n",
              "      <td>62</td>\n",
              "      <td>88.295</td>\n",
              "      <td>1</td>\n",
              "    </tr>\n",
              "    <tr>\n",
              "      <th>4</th>\n",
              "      <td>0.000171</td>\n",
              "      <td>0.000218</td>\n",
              "      <td>0.000127</td>\n",
              "      <td>0.000053</td>\n",
              "      <td>2.6358</td>\n",
              "      <td>6.42960</td>\n",
              "      <td>0.000961</td>\n",
              "      <td>0.000003</td>\n",
              "      <td>0.000277</td>\n",
              "      <td>86.32</td>\n",
              "      <td>35.6310</td>\n",
              "      <td>62.0</td>\n",
              "      <td>0.000</td>\n",
              "      <td>0.760200</td>\n",
              "      <td>-1.43620</td>\n",
              "      <td>138</td>\n",
              "      <td>62</td>\n",
              "      <td>93.317</td>\n",
              "      <td>1</td>\n",
              "    </tr>\n",
              "    <tr>\n",
              "      <th>...</th>\n",
              "      <td>...</td>\n",
              "      <td>...</td>\n",
              "      <td>...</td>\n",
              "      <td>...</td>\n",
              "      <td>...</td>\n",
              "      <td>...</td>\n",
              "      <td>...</td>\n",
              "      <td>...</td>\n",
              "      <td>...</td>\n",
              "      <td>...</td>\n",
              "      <td>...</td>\n",
              "      <td>...</td>\n",
              "      <td>...</td>\n",
              "      <td>...</td>\n",
              "      <td>...</td>\n",
              "      <td>...</td>\n",
              "      <td>...</td>\n",
              "      <td>...</td>\n",
              "      <td>...</td>\n",
              "    </tr>\n",
              "    <tr>\n",
              "      <th>2</th>\n",
              "      <td>0.003500</td>\n",
              "      <td>0.004243</td>\n",
              "      <td>0.002131</td>\n",
              "      <td>0.002714</td>\n",
              "      <td>4.0474</td>\n",
              "      <td>29.20800</td>\n",
              "      <td>0.034427</td>\n",
              "      <td>0.000006</td>\n",
              "      <td>0.005484</td>\n",
              "      <td>112.70</td>\n",
              "      <td>38.2390</td>\n",
              "      <td>109.5</td>\n",
              "      <td>49.667</td>\n",
              "      <td>0.249610</td>\n",
              "      <td>1.33320</td>\n",
              "      <td>165</td>\n",
              "      <td>76</td>\n",
              "      <td>118.950</td>\n",
              "      <td>1</td>\n",
              "    </tr>\n",
              "    <tr>\n",
              "      <th>3</th>\n",
              "      <td>0.000685</td>\n",
              "      <td>0.000879</td>\n",
              "      <td>0.000517</td>\n",
              "      <td>0.000022</td>\n",
              "      <td>6.0298</td>\n",
              "      <td>39.52300</td>\n",
              "      <td>0.006628</td>\n",
              "      <td>0.000399</td>\n",
              "      <td>0.001110</td>\n",
              "      <td>85.80</td>\n",
              "      <td>1.4071</td>\n",
              "      <td>86.0</td>\n",
              "      <td>0.000</td>\n",
              "      <td>-6.857100</td>\n",
              "      <td>48.02000</td>\n",
              "      <td>86</td>\n",
              "      <td>76</td>\n",
              "      <td>85.811</td>\n",
              "      <td>1</td>\n",
              "    </tr>\n",
              "    <tr>\n",
              "      <th>4</th>\n",
              "      <td>0.009514</td>\n",
              "      <td>0.089832</td>\n",
              "      <td>0.000515</td>\n",
              "      <td>0.000006</td>\n",
              "      <td>9.8493</td>\n",
              "      <td>98.01000</td>\n",
              "      <td>0.898850</td>\n",
              "      <td>0.000282</td>\n",
              "      <td>0.089887</td>\n",
              "      <td>87.58</td>\n",
              "      <td>11.1160</td>\n",
              "      <td>86.0</td>\n",
              "      <td>0.000</td>\n",
              "      <td>6.857100</td>\n",
              "      <td>48.02000</td>\n",
              "      <td>165</td>\n",
              "      <td>86</td>\n",
              "      <td>88.276</td>\n",
              "      <td>1</td>\n",
              "    </tr>\n",
              "    <tr>\n",
              "      <th>5</th>\n",
              "      <td>0.009842</td>\n",
              "      <td>0.093143</td>\n",
              "      <td>0.000516</td>\n",
              "      <td>0.000008</td>\n",
              "      <td>9.8493</td>\n",
              "      <td>98.01000</td>\n",
              "      <td>0.931960</td>\n",
              "      <td>0.000223</td>\n",
              "      <td>0.093197</td>\n",
              "      <td>87.41</td>\n",
              "      <td>8.0580</td>\n",
              "      <td>86.0</td>\n",
              "      <td>0.000</td>\n",
              "      <td>5.510400</td>\n",
              "      <td>31.36400</td>\n",
              "      <td>133</td>\n",
              "      <td>86</td>\n",
              "      <td>87.777</td>\n",
              "      <td>1</td>\n",
              "    </tr>\n",
              "    <tr>\n",
              "      <th>6</th>\n",
              "      <td>0.003114</td>\n",
              "      <td>0.004620</td>\n",
              "      <td>0.000653</td>\n",
              "      <td>0.000765</td>\n",
              "      <td>4.0433</td>\n",
              "      <td>28.22500</td>\n",
              "      <td>0.036471</td>\n",
              "      <td>0.000015</td>\n",
              "      <td>0.005552</td>\n",
              "      <td>96.80</td>\n",
              "      <td>27.3650</td>\n",
              "      <td>86.0</td>\n",
              "      <td>14.826</td>\n",
              "      <td>1.193900</td>\n",
              "      <td>2.56590</td>\n",
              "      <td>146</td>\n",
              "      <td>76</td>\n",
              "      <td>100.560</td>\n",
              "      <td>1</td>\n",
              "    </tr>\n",
              "  </tbody>\n",
              "</table>\n",
              "<p>23181 rows × 19 columns</p>\n",
              "</div>"
            ],
            "text/plain": [
              "     V1 size   V2 size   V3 size   V4 size  V5 size   V6 size   V7 size  \\\n",
              "0   0.000438  0.002101  0.000006  0.000003   6.5008  42.76100  0.016319   \n",
              "1   0.000388  0.000783  0.000130  0.000090   2.4140   3.95440  0.002615   \n",
              "2   0.000142  0.000174  0.000100  0.000147   1.3829   0.91272  0.000585   \n",
              "3   0.000645  0.001331  0.000145  0.000073   3.9211  21.45700  0.009911   \n",
              "4   0.000171  0.000218  0.000127  0.000053   2.6358   6.42960  0.000961   \n",
              "..       ...       ...       ...       ...      ...       ...       ...   \n",
              "2   0.003500  0.004243  0.002131  0.002714   4.0474  29.20800  0.034427   \n",
              "3   0.000685  0.000879  0.000517  0.000022   6.0298  39.52300  0.006628   \n",
              "4   0.009514  0.089832  0.000515  0.000006   9.8493  98.01000  0.898850   \n",
              "5   0.009842  0.093143  0.000516  0.000008   9.8493  98.01000  0.931960   \n",
              "6   0.003114  0.004620  0.000653  0.000765   4.0433  28.22500  0.036471   \n",
              "\n",
              "     V8 size   V9 size  V1 interv.  V2 interv.  V3 interv.  V4 interv.  \\\n",
              "0   0.000003  0.002136      759.62    477.0500      1130.0       0.000   \n",
              "1   0.000000  0.000870       86.32     35.6310        62.0       0.000   \n",
              "2   0.000000  0.000224      103.47     40.3200       138.0      22.239   \n",
              "3   0.000007  0.001473       81.76     33.5040        62.0       0.000   \n",
              "4   0.000003  0.000277       86.32     35.6310        62.0       0.000   \n",
              "..       ...       ...         ...         ...         ...         ...   \n",
              "2   0.000006  0.005484      112.70     38.2390       109.5      49.667   \n",
              "3   0.000399  0.001110       85.80      1.4071        86.0       0.000   \n",
              "4   0.000282  0.089887       87.58     11.1160        86.0       0.000   \n",
              "5   0.000223  0.093197       87.41      8.0580        86.0       0.000   \n",
              "6   0.000015  0.005552       96.80     27.3650        86.0      14.826   \n",
              "\n",
              "    V5 interv.  V6 interv.  V7 interv.  V8 interv.  V9 interv.  classe  \n",
              "0    -0.505190    -1.74200        1130          61     895.730       1  \n",
              "1     0.760200    -1.43620         138          62      93.317       1  \n",
              "2    -0.036313    -1.95700         153          62     110.970       1  \n",
              "3     1.077900    -0.84623         138          62      88.295       1  \n",
              "4     0.760200    -1.43620         138          62      93.317       1  \n",
              "..         ...         ...         ...         ...         ...     ...  \n",
              "2     0.249610     1.33320         165          76     118.950       1  \n",
              "3    -6.857100    48.02000          86          76      85.811       1  \n",
              "4     6.857100    48.02000         165          86      88.276       1  \n",
              "5     5.510400    31.36400         133          86      87.777       1  \n",
              "6     1.193900     2.56590         146          76     100.560       1  \n",
              "\n",
              "[23181 rows x 19 columns]"
            ]
          },
          "execution_count": 46,
          "metadata": {},
          "output_type": "execute_result"
        }
      ]
    },
    {
      "cell_type": "code",
      "metadata": {
        "id": "critical-eight",
        "outputId": "520cf5c3-1ce3-469d-b1a7-ee897b07edd6"
      },
      "source": [
        "import matplotlib.pyplot as plt\n",
        "sns.set(font_scale=1.3)\n",
        "sns.set(rc={'figure.figsize':(8,8)})\n",
        "ax = sns.countplot(x=\"classe\", data=df_train_noduplicates)\n",
        "fig = ax.get_figure()\n",
        "#fig.savefig(\"balanceamento_Datasets_456.png\") "
      ],
      "id": "critical-eight",
      "execution_count": null,
      "outputs": [
        {
          "data": {
            "image/png": "[encoded data removed]",
            "text/plain": [
              "<Figure size 576x576 with 1 Axes>"
            ]
          },
          "metadata": {},
          "output_type": "display_data"
        }
      ]
    },
    {
      "cell_type": "code",
      "metadata": {
        "id": "finite-decrease"
      },
      "source": [
        "y= df_train_noduplicates.classe.to_numpy()"
      ],
      "id": "finite-decrease",
      "execution_count": null,
      "outputs": []
    },
    {
      "cell_type": "code",
      "metadata": {
        "id": "pressed-resistance",
        "outputId": "225c634e-8df1-44b5-9427-a8d8b0e768ea"
      },
      "source": [
        "y"
      ],
      "id": "pressed-resistance",
      "execution_count": null,
      "outputs": [
        {
          "data": {
            "text/plain": [
              "array([1, 1, 1, ..., 1, 1, 1], dtype=int64)"
            ]
          },
          "execution_count": 49,
          "metadata": {},
          "output_type": "execute_result"
        }
      ]
    },
    {
      "cell_type": "code",
      "metadata": {
        "id": "cardiac-penalty",
        "outputId": "cd5b9fbe-122b-4020-998e-2414ab1d2a18"
      },
      "source": [
        "from collections import Counter\n",
        "print(Counter(y))"
      ],
      "id": "cardiac-penalty",
      "execution_count": null,
      "outputs": [
        {
          "name": "stdout",
          "output_type": "stream",
          "text": [
            "Counter({1: 14171, 0: 9010})\n"
          ]
        }
      ]
    },
    {
      "cell_type": "code",
      "metadata": {
        "id": "unknown-recommendation"
      },
      "source": [
        "df_train_noduplicates = df_train_noduplicates.drop(['classe'], axis=1)"
      ],
      "id": "unknown-recommendation",
      "execution_count": null,
      "outputs": []
    },
    {
      "cell_type": "code",
      "metadata": {
        "id": "worth-ebony"
      },
      "source": [
        ""
      ],
      "id": "worth-ebony",
      "execution_count": null,
      "outputs": []
    },
    {
      "cell_type": "markdown",
      "metadata": {
        "id": "headed-politics"
      },
      "source": [
        "### 1 - Lidando com o desbalanceamento (eliminando artificialmente alguns exemplos da classe majoritaria)"
      ],
      "id": "headed-politics"
    },
    {
      "cell_type": "markdown",
      "metadata": {
        "id": "published-motivation"
      },
      "source": [
        "Aqui, utilizei \"random under sampling\", técnica que permite retirar aleatoriamente dados da classe majoritaria e, assim, balancear os dados"
      ],
      "id": "published-motivation"
    },
    {
      "cell_type": "code",
      "metadata": {
        "id": "fifty-mercy"
      },
      "source": [
        "from imblearn.under_sampling import RandomUnderSampler"
      ],
      "id": "fifty-mercy",
      "execution_count": null,
      "outputs": []
    },
    {
      "cell_type": "code",
      "metadata": {
        "id": "acknowledged-welcome"
      },
      "source": [
        "undersample = RandomUnderSampler(sampling_strategy='majority')"
      ],
      "id": "acknowledged-welcome",
      "execution_count": null,
      "outputs": []
    },
    {
      "cell_type": "code",
      "metadata": {
        "id": "retired-village"
      },
      "source": [
        "X_balanced, y_balanced = undersample.fit_resample(df_train_noduplicates, y)"
      ],
      "id": "retired-village",
      "execution_count": null,
      "outputs": []
    },
    {
      "cell_type": "code",
      "metadata": {
        "id": "foster-seating"
      },
      "source": [
        "from collections import Counter"
      ],
      "id": "foster-seating",
      "execution_count": null,
      "outputs": []
    },
    {
      "cell_type": "code",
      "metadata": {
        "id": "spare-virgin",
        "outputId": "3e1c0c7e-3803-46cb-c501-5ef4c30a334c"
      },
      "source": [
        "print(Counter(y_balanced))"
      ],
      "id": "spare-virgin",
      "execution_count": null,
      "outputs": [
        {
          "name": "stdout",
          "output_type": "stream",
          "text": [
            "Counter({0: 9010, 1: 9010})\n"
          ]
        }
      ]
    },
    {
      "cell_type": "code",
      "metadata": {
        "id": "surprised-trail",
        "outputId": "6cf865dd-2333-49c9-cefe-83d31a3bd575"
      },
      "source": [
        "X_balanced"
      ],
      "id": "surprised-trail",
      "execution_count": null,
      "outputs": [
        {
          "data": {
            "text/html": [
              "<div>\n",
              "<style scoped>\n",
              "    .dataframe tbody tr th:only-of-type {\n",
              "        vertical-align: middle;\n",
              "    }\n",
              "\n",
              "    .dataframe tbody tr th {\n",
              "        vertical-align: top;\n",
              "    }\n",
              "\n",
              "    .dataframe thead th {\n",
              "        text-align: right;\n",
              "    }\n",
              "</style>\n",
              "<table border=\"1\" class=\"dataframe\">\n",
              "  <thead>\n",
              "    <tr style=\"text-align: right;\">\n",
              "      <th></th>\n",
              "      <th>V1 size</th>\n",
              "      <th>V2 size</th>\n",
              "      <th>V3 size</th>\n",
              "      <th>V4 size</th>\n",
              "      <th>V5 size</th>\n",
              "      <th>V6 size</th>\n",
              "      <th>V7 size</th>\n",
              "      <th>V8 size</th>\n",
              "      <th>V9 size</th>\n",
              "      <th>V1 interv.</th>\n",
              "      <th>V2 interv.</th>\n",
              "      <th>V3 interv.</th>\n",
              "      <th>V4 interv.</th>\n",
              "      <th>V5 interv.</th>\n",
              "      <th>V6 interv.</th>\n",
              "      <th>V7 interv.</th>\n",
              "      <th>V8 interv.</th>\n",
              "      <th>V9 interv.</th>\n",
              "    </tr>\n",
              "  </thead>\n",
              "  <tbody>\n",
              "    <tr>\n",
              "      <th>0</th>\n",
              "      <td>0.007135</td>\n",
              "      <td>0.013277</td>\n",
              "      <td>0.002182</td>\n",
              "      <td>0.002751</td>\n",
              "      <td>2.9692</td>\n",
              "      <td>9.4991</td>\n",
              "      <td>0.074816</td>\n",
              "      <td>0.000119</td>\n",
              "      <td>0.015014</td>\n",
              "      <td>340.48</td>\n",
              "      <td>346.470</td>\n",
              "      <td>222.0</td>\n",
              "      <td>0.0000</td>\n",
              "      <td>2.857800</td>\n",
              "      <td>6.3813</td>\n",
              "      <td>1476</td>\n",
              "      <td>222</td>\n",
              "      <td>484.530</td>\n",
              "    </tr>\n",
              "    <tr>\n",
              "      <th>1</th>\n",
              "      <td>0.167980</td>\n",
              "      <td>0.473860</td>\n",
              "      <td>0.003874</td>\n",
              "      <td>0.005562</td>\n",
              "      <td>4.6972</td>\n",
              "      <td>23.4240</td>\n",
              "      <td>3.183600</td>\n",
              "      <td>0.000119</td>\n",
              "      <td>0.500520</td>\n",
              "      <td>315.01</td>\n",
              "      <td>201.400</td>\n",
              "      <td>241.0</td>\n",
              "      <td>28.1690</td>\n",
              "      <td>4.118700</td>\n",
              "      <td>19.6590</td>\n",
              "      <td>1476</td>\n",
              "      <td>222</td>\n",
              "      <td>373.350</td>\n",
              "    </tr>\n",
              "    <tr>\n",
              "      <th>2</th>\n",
              "      <td>0.100310</td>\n",
              "      <td>0.736630</td>\n",
              "      <td>0.000345</td>\n",
              "      <td>0.000420</td>\n",
              "      <td>9.6209</td>\n",
              "      <td>91.9940</td>\n",
              "      <td>7.372600</td>\n",
              "      <td>0.000125</td>\n",
              "      <td>0.739770</td>\n",
              "      <td>400.63</td>\n",
              "      <td>275.310</td>\n",
              "      <td>224.0</td>\n",
              "      <td>2.9652</td>\n",
              "      <td>1.381400</td>\n",
              "      <td>0.8520</td>\n",
              "      <td>1160</td>\n",
              "      <td>222</td>\n",
              "      <td>485.330</td>\n",
              "    </tr>\n",
              "    <tr>\n",
              "      <th>3</th>\n",
              "      <td>0.689110</td>\n",
              "      <td>1.934400</td>\n",
              "      <td>0.000215</td>\n",
              "      <td>0.000116</td>\n",
              "      <td>4.7959</td>\n",
              "      <td>29.1920</td>\n",
              "      <td>15.070000</td>\n",
              "      <td>0.000111</td>\n",
              "      <td>2.044300</td>\n",
              "      <td>359.96</td>\n",
              "      <td>225.750</td>\n",
              "      <td>262.5</td>\n",
              "      <td>60.0450</td>\n",
              "      <td>2.026100</td>\n",
              "      <td>3.3624</td>\n",
              "      <td>1111</td>\n",
              "      <td>222</td>\n",
              "      <td>424.290</td>\n",
              "    </tr>\n",
              "    <tr>\n",
              "      <th>4</th>\n",
              "      <td>0.039378</td>\n",
              "      <td>0.158930</td>\n",
              "      <td>0.001014</td>\n",
              "      <td>0.001091</td>\n",
              "      <td>7.2926</td>\n",
              "      <td>58.1530</td>\n",
              "      <td>1.432700</td>\n",
              "      <td>0.000117</td>\n",
              "      <td>0.162960</td>\n",
              "      <td>1127.70</td>\n",
              "      <td>591.530</td>\n",
              "      <td>1588.0</td>\n",
              "      <td>11.8610</td>\n",
              "      <td>-0.590740</td>\n",
              "      <td>-1.5450</td>\n",
              "      <td>1596</td>\n",
              "      <td>228</td>\n",
              "      <td>1272.100</td>\n",
              "    </tr>\n",
              "    <tr>\n",
              "      <th>...</th>\n",
              "      <td>...</td>\n",
              "      <td>...</td>\n",
              "      <td>...</td>\n",
              "      <td>...</td>\n",
              "      <td>...</td>\n",
              "      <td>...</td>\n",
              "      <td>...</td>\n",
              "      <td>...</td>\n",
              "      <td>...</td>\n",
              "      <td>...</td>\n",
              "      <td>...</td>\n",
              "      <td>...</td>\n",
              "      <td>...</td>\n",
              "      <td>...</td>\n",
              "      <td>...</td>\n",
              "      <td>...</td>\n",
              "      <td>...</td>\n",
              "      <td>...</td>\n",
              "    </tr>\n",
              "    <tr>\n",
              "      <th>18015</th>\n",
              "      <td>0.005669</td>\n",
              "      <td>0.007705</td>\n",
              "      <td>0.000805</td>\n",
              "      <td>0.001182</td>\n",
              "      <td>1.0992</td>\n",
              "      <td>2.6555</td>\n",
              "      <td>0.022636</td>\n",
              "      <td>0.000004</td>\n",
              "      <td>0.009534</td>\n",
              "      <td>119.37</td>\n",
              "      <td>58.795</td>\n",
              "      <td>88.0</td>\n",
              "      <td>17.7910</td>\n",
              "      <td>1.009200</td>\n",
              "      <td>2.1254</td>\n",
              "      <td>224</td>\n",
              "      <td>76</td>\n",
              "      <td>132.930</td>\n",
              "    </tr>\n",
              "    <tr>\n",
              "      <th>18016</th>\n",
              "      <td>0.002141</td>\n",
              "      <td>0.005616</td>\n",
              "      <td>0.000030</td>\n",
              "      <td>0.000035</td>\n",
              "      <td>3.2747</td>\n",
              "      <td>13.7110</td>\n",
              "      <td>0.031669</td>\n",
              "      <td>0.000006</td>\n",
              "      <td>0.005984</td>\n",
              "      <td>1019.60</td>\n",
              "      <td>712.890</td>\n",
              "      <td>1606.0</td>\n",
              "      <td>5.9304</td>\n",
              "      <td>-0.446670</td>\n",
              "      <td>1.2828</td>\n",
              "      <td>1610</td>\n",
              "      <td>76</td>\n",
              "      <td>1242.000</td>\n",
              "    </tr>\n",
              "    <tr>\n",
              "      <th>18017</th>\n",
              "      <td>0.003648</td>\n",
              "      <td>0.007715</td>\n",
              "      <td>0.000395</td>\n",
              "      <td>0.000571</td>\n",
              "      <td>2.4083</td>\n",
              "      <td>7.4488</td>\n",
              "      <td>0.031502</td>\n",
              "      <td>0.000002</td>\n",
              "      <td>0.008499</td>\n",
              "      <td>781.42</td>\n",
              "      <td>696.110</td>\n",
              "      <td>638.5</td>\n",
              "      <td>833.9600</td>\n",
              "      <td>0.033527</td>\n",
              "      <td>1.0663</td>\n",
              "      <td>1590</td>\n",
              "      <td>76</td>\n",
              "      <td>1044.200</td>\n",
              "    </tr>\n",
              "    <tr>\n",
              "      <th>18018</th>\n",
              "      <td>0.002958</td>\n",
              "      <td>0.008199</td>\n",
              "      <td>0.000125</td>\n",
              "      <td>0.000182</td>\n",
              "      <td>3.5442</td>\n",
              "      <td>16.1860</td>\n",
              "      <td>0.050671</td>\n",
              "      <td>0.000002</td>\n",
              "      <td>0.008678</td>\n",
              "      <td>910.68</td>\n",
              "      <td>649.120</td>\n",
              "      <td>1326.0</td>\n",
              "      <td>379.5500</td>\n",
              "      <td>-0.433940</td>\n",
              "      <td>1.3020</td>\n",
              "      <td>1610</td>\n",
              "      <td>76</td>\n",
              "      <td>1116.500</td>\n",
              "    </tr>\n",
              "    <tr>\n",
              "      <th>18019</th>\n",
              "      <td>0.000344</td>\n",
              "      <td>0.000743</td>\n",
              "      <td>0.000131</td>\n",
              "      <td>0.000139</td>\n",
              "      <td>2.9990</td>\n",
              "      <td>7.6233</td>\n",
              "      <td>0.003047</td>\n",
              "      <td>0.000004</td>\n",
              "      <td>0.000815</td>\n",
              "      <td>92.40</td>\n",
              "      <td>37.420</td>\n",
              "      <td>62.0</td>\n",
              "      <td>0.0000</td>\n",
              "      <td>0.402140</td>\n",
              "      <td>-1.8565</td>\n",
              "      <td>138</td>\n",
              "      <td>62</td>\n",
              "      <td>99.619</td>\n",
              "    </tr>\n",
              "  </tbody>\n",
              "</table>\n",
              "<p>18020 rows × 18 columns</p>\n",
              "</div>"
            ],
            "text/plain": [
              "        V1 size   V2 size   V3 size   V4 size  V5 size  V6 size    V7 size  \\\n",
              "0      0.007135  0.013277  0.002182  0.002751   2.9692   9.4991   0.074816   \n",
              "1      0.167980  0.473860  0.003874  0.005562   4.6972  23.4240   3.183600   \n",
              "2      0.100310  0.736630  0.000345  0.000420   9.6209  91.9940   7.372600   \n",
              "3      0.689110  1.934400  0.000215  0.000116   4.7959  29.1920  15.070000   \n",
              "4      0.039378  0.158930  0.001014  0.001091   7.2926  58.1530   1.432700   \n",
              "...         ...       ...       ...       ...      ...      ...        ...   \n",
              "18015  0.005669  0.007705  0.000805  0.001182   1.0992   2.6555   0.022636   \n",
              "18016  0.002141  0.005616  0.000030  0.000035   3.2747  13.7110   0.031669   \n",
              "18017  0.003648  0.007715  0.000395  0.000571   2.4083   7.4488   0.031502   \n",
              "18018  0.002958  0.008199  0.000125  0.000182   3.5442  16.1860   0.050671   \n",
              "18019  0.000344  0.000743  0.000131  0.000139   2.9990   7.6233   0.003047   \n",
              "\n",
              "        V8 size   V9 size  V1 interv.  V2 interv.  V3 interv.  V4 interv.  \\\n",
              "0      0.000119  0.015014      340.48     346.470       222.0      0.0000   \n",
              "1      0.000119  0.500520      315.01     201.400       241.0     28.1690   \n",
              "2      0.000125  0.739770      400.63     275.310       224.0      2.9652   \n",
              "3      0.000111  2.044300      359.96     225.750       262.5     60.0450   \n",
              "4      0.000117  0.162960     1127.70     591.530      1588.0     11.8610   \n",
              "...         ...       ...         ...         ...         ...         ...   \n",
              "18015  0.000004  0.009534      119.37      58.795        88.0     17.7910   \n",
              "18016  0.000006  0.005984     1019.60     712.890      1606.0      5.9304   \n",
              "18017  0.000002  0.008499      781.42     696.110       638.5    833.9600   \n",
              "18018  0.000002  0.008678      910.68     649.120      1326.0    379.5500   \n",
              "18019  0.000004  0.000815       92.40      37.420        62.0      0.0000   \n",
              "\n",
              "       V5 interv.  V6 interv.  V7 interv.  V8 interv.  V9 interv.  \n",
              "0        2.857800      6.3813        1476         222     484.530  \n",
              "1        4.118700     19.6590        1476         222     373.350  \n",
              "2        1.381400      0.8520        1160         222     485.330  \n",
              "3        2.026100      3.3624        1111         222     424.290  \n",
              "4       -0.590740     -1.5450        1596         228    1272.100  \n",
              "...           ...         ...         ...         ...         ...  \n",
              "18015    1.009200      2.1254         224          76     132.930  \n",
              "18016   -0.446670      1.2828        1610          76    1242.000  \n",
              "18017    0.033527      1.0663        1590          76    1044.200  \n",
              "18018   -0.433940      1.3020        1610          76    1116.500  \n",
              "18019    0.402140     -1.8565         138          62      99.619  \n",
              "\n",
              "[18020 rows x 18 columns]"
            ]
          },
          "execution_count": 57,
          "metadata": {},
          "output_type": "execute_result"
        }
      ]
    },
    {
      "cell_type": "code",
      "metadata": {
        "id": "considered-cement",
        "outputId": "33b3ab29-ff12-4290-bafa-e8503912cb0b"
      },
      "source": [
        "X_balanced.describe()"
      ],
      "id": "considered-cement",
      "execution_count": null,
      "outputs": [
        {
          "data": {
            "text/html": [
              "<div>\n",
              "<style scoped>\n",
              "    .dataframe tbody tr th:only-of-type {\n",
              "        vertical-align: middle;\n",
              "    }\n",
              "\n",
              "    .dataframe tbody tr th {\n",
              "        vertical-align: top;\n",
              "    }\n",
              "\n",
              "    .dataframe thead th {\n",
              "        text-align: right;\n",
              "    }\n",
              "</style>\n",
              "<table border=\"1\" class=\"dataframe\">\n",
              "  <thead>\n",
              "    <tr style=\"text-align: right;\">\n",
              "      <th></th>\n",
              "      <th>V1 size</th>\n",
              "      <th>V2 size</th>\n",
              "      <th>V3 size</th>\n",
              "      <th>V4 size</th>\n",
              "      <th>V5 size</th>\n",
              "      <th>V6 size</th>\n",
              "      <th>V7 size</th>\n",
              "      <th>V8 size</th>\n",
              "      <th>V9 size</th>\n",
              "      <th>V1 interv.</th>\n",
              "      <th>V2 interv.</th>\n",
              "      <th>V3 interv.</th>\n",
              "      <th>V4 interv.</th>\n",
              "      <th>V5 interv.</th>\n",
              "      <th>V6 interv.</th>\n",
              "      <th>V7 interv.</th>\n",
              "      <th>V8 interv.</th>\n",
              "      <th>V9 interv.</th>\n",
              "    </tr>\n",
              "  </thead>\n",
              "  <tbody>\n",
              "    <tr>\n",
              "      <th>count</th>\n",
              "      <td>18020.000000</td>\n",
              "      <td>18020.000000</td>\n",
              "      <td>18020.000000</td>\n",
              "      <td>18020.000000</td>\n",
              "      <td>18020.000000</td>\n",
              "      <td>18020.000000</td>\n",
              "      <td>18020.000000</td>\n",
              "      <td>18020.000000</td>\n",
              "      <td>18020.000000</td>\n",
              "      <td>18020.000000</td>\n",
              "      <td>18020.000000</td>\n",
              "      <td>18020.00000</td>\n",
              "      <td>18020.000000</td>\n",
              "      <td>18020.000000</td>\n",
              "      <td>18020.000000</td>\n",
              "      <td>18020.000000</td>\n",
              "      <td>18020.000000</td>\n",
              "      <td>18020.000000</td>\n",
              "    </tr>\n",
              "    <tr>\n",
              "      <th>mean</th>\n",
              "      <td>0.148816</td>\n",
              "      <td>0.877164</td>\n",
              "      <td>0.008118</td>\n",
              "      <td>0.005586</td>\n",
              "      <td>4.050141</td>\n",
              "      <td>23.419828</td>\n",
              "      <td>7.912367</td>\n",
              "      <td>0.000083</td>\n",
              "      <td>0.890547</td>\n",
              "      <td>763.536421</td>\n",
              "      <td>352.779506</td>\n",
              "      <td>875.19495</td>\n",
              "      <td>95.840536</td>\n",
              "      <td>-0.526651</td>\n",
              "      <td>4.991025</td>\n",
              "      <td>1142.252997</td>\n",
              "      <td>174.014650</td>\n",
              "      <td>859.122735</td>\n",
              "    </tr>\n",
              "    <tr>\n",
              "      <th>std</th>\n",
              "      <td>2.385508</td>\n",
              "      <td>21.630522</td>\n",
              "      <td>0.508634</td>\n",
              "      <td>0.046936</td>\n",
              "      <td>2.260812</td>\n",
              "      <td>23.755557</td>\n",
              "      <td>215.561993</td>\n",
              "      <td>0.000137</td>\n",
              "      <td>21.653803</td>\n",
              "      <td>515.766342</td>\n",
              "      <td>260.624493</td>\n",
              "      <td>656.92536</td>\n",
              "      <td>190.316615</td>\n",
              "      <td>2.310512</td>\n",
              "      <td>14.631017</td>\n",
              "      <td>649.531408</td>\n",
              "      <td>154.927482</td>\n",
              "      <td>548.965597</td>\n",
              "    </tr>\n",
              "    <tr>\n",
              "      <th>min</th>\n",
              "      <td>0.000056</td>\n",
              "      <td>0.000044</td>\n",
              "      <td>0.000001</td>\n",
              "      <td>0.000000</td>\n",
              "      <td>-1.931900</td>\n",
              "      <td>-1.980700</td>\n",
              "      <td>0.000245</td>\n",
              "      <td>0.000000</td>\n",
              "      <td>0.000114</td>\n",
              "      <td>64.100000</td>\n",
              "      <td>0.200000</td>\n",
              "      <td>62.00000</td>\n",
              "      <td>0.000000</td>\n",
              "      <td>-9.702000</td>\n",
              "      <td>-2.019900</td>\n",
              "      <td>68.000000</td>\n",
              "      <td>61.000000</td>\n",
              "      <td>64.164000</td>\n",
              "    </tr>\n",
              "    <tr>\n",
              "      <th>25%</th>\n",
              "      <td>0.001424</td>\n",
              "      <td>0.002803</td>\n",
              "      <td>0.000123</td>\n",
              "      <td>0.000079</td>\n",
              "      <td>2.355275</td>\n",
              "      <td>5.978175</td>\n",
              "      <td>0.019074</td>\n",
              "      <td>0.000002</td>\n",
              "      <td>0.003268</td>\n",
              "      <td>126.160000</td>\n",
              "      <td>40.705000</td>\n",
              "      <td>138.00000</td>\n",
              "      <td>0.000000</td>\n",
              "      <td>-1.140875</td>\n",
              "      <td>-1.246050</td>\n",
              "      <td>224.000000</td>\n",
              "      <td>76.000000</td>\n",
              "      <td>132.967500</td>\n",
              "    </tr>\n",
              "    <tr>\n",
              "      <th>50%</th>\n",
              "      <td>0.003453</td>\n",
              "      <td>0.008528</td>\n",
              "      <td>0.000342</td>\n",
              "      <td>0.000187</td>\n",
              "      <td>3.527000</td>\n",
              "      <td>14.274000</td>\n",
              "      <td>0.049861</td>\n",
              "      <td>0.000017</td>\n",
              "      <td>0.009574</td>\n",
              "      <td>875.005000</td>\n",
              "      <td>362.160000</td>\n",
              "      <td>1190.75000</td>\n",
              "      <td>0.000000</td>\n",
              "      <td>-0.338580</td>\n",
              "      <td>1.180250</td>\n",
              "      <td>1522.000000</td>\n",
              "      <td>153.000000</td>\n",
              "      <td>1089.150000</td>\n",
              "    </tr>\n",
              "    <tr>\n",
              "      <th>75%</th>\n",
              "      <td>0.013145</td>\n",
              "      <td>0.029621</td>\n",
              "      <td>0.000945</td>\n",
              "      <td>0.000882</td>\n",
              "      <td>5.520675</td>\n",
              "      <td>34.167750</td>\n",
              "      <td>0.188942</td>\n",
              "      <td>0.000124</td>\n",
              "      <td>0.032389</td>\n",
              "      <td>1180.225000</td>\n",
              "      <td>613.932500</td>\n",
              "      <td>1476.00000</td>\n",
              "      <td>109.710000</td>\n",
              "      <td>0.619560</td>\n",
              "      <td>2.503550</td>\n",
              "      <td>1610.000000</td>\n",
              "      <td>222.000000</td>\n",
              "      <td>1309.825000</td>\n",
              "    </tr>\n",
              "    <tr>\n",
              "      <th>max</th>\n",
              "      <td>149.870000</td>\n",
              "      <td>1492.400000</td>\n",
              "      <td>68.171000</td>\n",
              "      <td>3.941900</td>\n",
              "      <td>9.849300</td>\n",
              "      <td>98.010000</td>\n",
              "      <td>14925.000000</td>\n",
              "      <td>0.008234</td>\n",
              "      <td>1492.500000</td>\n",
              "      <td>1675.700000</td>\n",
              "      <td>761.070000</td>\n",
              "      <td>1676.00000</td>\n",
              "      <td>1136.400000</td>\n",
              "      <td>9.849400</td>\n",
              "      <td>98.010000</td>\n",
              "      <td>3468.000000</td>\n",
              "      <td>1676.000000</td>\n",
              "      <td>1675.700000</td>\n",
              "    </tr>\n",
              "  </tbody>\n",
              "</table>\n",
              "</div>"
            ],
            "text/plain": [
              "            V1 size       V2 size       V3 size       V4 size       V5 size  \\\n",
              "count  18020.000000  18020.000000  18020.000000  18020.000000  18020.000000   \n",
              "mean       0.148816      0.877164      0.008118      0.005586      4.050141   \n",
              "std        2.385508     21.630522      0.508634      0.046936      2.260812   \n",
              "min        0.000056      0.000044      0.000001      0.000000     -1.931900   \n",
              "25%        0.001424      0.002803      0.000123      0.000079      2.355275   \n",
              "50%        0.003453      0.008528      0.000342      0.000187      3.527000   \n",
              "75%        0.013145      0.029621      0.000945      0.000882      5.520675   \n",
              "max      149.870000   1492.400000     68.171000      3.941900      9.849300   \n",
              "\n",
              "            V6 size       V7 size       V8 size       V9 size    V1 interv.  \\\n",
              "count  18020.000000  18020.000000  18020.000000  18020.000000  18020.000000   \n",
              "mean      23.419828      7.912367      0.000083      0.890547    763.536421   \n",
              "std       23.755557    215.561993      0.000137     21.653803    515.766342   \n",
              "min       -1.980700      0.000245      0.000000      0.000114     64.100000   \n",
              "25%        5.978175      0.019074      0.000002      0.003268    126.160000   \n",
              "50%       14.274000      0.049861      0.000017      0.009574    875.005000   \n",
              "75%       34.167750      0.188942      0.000124      0.032389   1180.225000   \n",
              "max       98.010000  14925.000000      0.008234   1492.500000   1675.700000   \n",
              "\n",
              "         V2 interv.   V3 interv.    V4 interv.    V5 interv.    V6 interv.  \\\n",
              "count  18020.000000  18020.00000  18020.000000  18020.000000  18020.000000   \n",
              "mean     352.779506    875.19495     95.840536     -0.526651      4.991025   \n",
              "std      260.624493    656.92536    190.316615      2.310512     14.631017   \n",
              "min        0.200000     62.00000      0.000000     -9.702000     -2.019900   \n",
              "25%       40.705000    138.00000      0.000000     -1.140875     -1.246050   \n",
              "50%      362.160000   1190.75000      0.000000     -0.338580      1.180250   \n",
              "75%      613.932500   1476.00000    109.710000      0.619560      2.503550   \n",
              "max      761.070000   1676.00000   1136.400000      9.849400     98.010000   \n",
              "\n",
              "         V7 interv.    V8 interv.    V9 interv.  \n",
              "count  18020.000000  18020.000000  18020.000000  \n",
              "mean    1142.252997    174.014650    859.122735  \n",
              "std      649.531408    154.927482    548.965597  \n",
              "min       68.000000     61.000000     64.164000  \n",
              "25%      224.000000     76.000000    132.967500  \n",
              "50%     1522.000000    153.000000   1089.150000  \n",
              "75%     1610.000000    222.000000   1309.825000  \n",
              "max     3468.000000   1676.000000   1675.700000  "
            ]
          },
          "execution_count": 58,
          "metadata": {},
          "output_type": "execute_result"
        }
      ]
    },
    {
      "cell_type": "markdown",
      "metadata": {
        "id": "median-compensation"
      },
      "source": [
        "### Normalização"
      ],
      "id": "median-compensation"
    },
    {
      "cell_type": "markdown",
      "metadata": {
        "id": "victorian-bottle"
      },
      "source": [
        "\"A normalização pode ser por amplitude ou por distribuição\"\n",
        "- \"Normalização por amplitude: Pode ser por reescala ou por padronização. . A primeira define uma nova escala de valores, limites mínimo e máximo, para todos os atributos. A segunda define um valor central e um valor de espalhamento comuns para todos os atributos.\"\n",
        "- Para a normalização por padronização, a cada valor do atributo a ser normalizado é adicionada ou subtraída uma medida de localização e o valor resultante é em seguida multiplicado ou dividido por uma medida de escala. Com isso, diferentes atributos podem ter limites inferiores e superiores distintos, mas terão os mesmos valores para as medidas de escala e espalhamento\n"
      ],
      "id": "victorian-bottle"
    },
    {
      "cell_type": "markdown",
      "metadata": {
        "id": "together-exhaust"
      },
      "source": [
        "### Como decidir qual usar?\n",
        "![image.png](attachment:image.png)\n",
        "\n",
        "\n",
        "Source: https://www.analyticsvidhya.com/blog/2020/04/feature-scaling-machine-learning-normalization-standardization/"
      ],
      "id": "together-exhaust"
    },
    {
      "cell_type": "markdown",
      "metadata": {
        "id": "danish-player"
      },
      "source": [
        "#### Usando normalização:\n",
        "![image.png](attachment:image.png)"
      ],
      "id": "danish-player"
    },
    {
      "cell_type": "markdown",
      "metadata": {
        "id": "municipal-excuse"
      },
      "source": [
        "### Usando standardization"
      ],
      "id": "municipal-excuse"
    },
    {
      "cell_type": "code",
      "metadata": {
        "id": "frequent-olympus",
        "outputId": "75e79538-eabd-4154-c570-68f82ce718c0"
      },
      "source": [
        "from sklearn.preprocessing import MinMaxScaler, StandardScaler\n",
        "scaler = StandardScaler()\n",
        "Xstd = scaler.fit_transform(X_balanced)\n",
        "df_balanced_stand = pd.DataFrame(Xstd, columns=X_balanced.columns, index=X_balanced.index)\n",
        "df_balanced_stand.head()"
      ],
      "id": "frequent-olympus",
      "execution_count": null,
      "outputs": [
        {
          "data": {
            "text/html": [
              "<div>\n",
              "<style scoped>\n",
              "    .dataframe tbody tr th:only-of-type {\n",
              "        vertical-align: middle;\n",
              "    }\n",
              "\n",
              "    .dataframe tbody tr th {\n",
              "        vertical-align: top;\n",
              "    }\n",
              "\n",
              "    .dataframe thead th {\n",
              "        text-align: right;\n",
              "    }\n",
              "</style>\n",
              "<table border=\"1\" class=\"dataframe\">\n",
              "  <thead>\n",
              "    <tr style=\"text-align: right;\">\n",
              "      <th></th>\n",
              "      <th>V1 size</th>\n",
              "      <th>V2 size</th>\n",
              "      <th>V3 size</th>\n",
              "      <th>V4 size</th>\n",
              "      <th>V5 size</th>\n",
              "      <th>V6 size</th>\n",
              "      <th>V7 size</th>\n",
              "      <th>V8 size</th>\n",
              "      <th>V9 size</th>\n",
              "      <th>V1 interv.</th>\n",
              "      <th>V2 interv.</th>\n",
              "      <th>V3 interv.</th>\n",
              "      <th>V4 interv.</th>\n",
              "      <th>V5 interv.</th>\n",
              "      <th>V6 interv.</th>\n",
              "      <th>V7 interv.</th>\n",
              "      <th>V8 interv.</th>\n",
              "      <th>V9 interv.</th>\n",
              "    </tr>\n",
              "  </thead>\n",
              "  <tbody>\n",
              "    <tr>\n",
              "      <th>0</th>\n",
              "      <td>-0.059394</td>\n",
              "      <td>-0.039939</td>\n",
              "      <td>-0.011670</td>\n",
              "      <td>-0.060397</td>\n",
              "      <td>-0.478134</td>\n",
              "      <td>-0.586015</td>\n",
              "      <td>-0.036360</td>\n",
              "      <td>0.262403</td>\n",
              "      <td>-0.040434</td>\n",
              "      <td>-0.820271</td>\n",
              "      <td>-0.024210</td>\n",
              "      <td>-0.994349</td>\n",
              "      <td>-0.503599</td>\n",
              "      <td>1.464846</td>\n",
              "      <td>0.095025</td>\n",
              "      <td>0.513842</td>\n",
              "      <td>0.309736</td>\n",
              "      <td>-0.682380</td>\n",
              "    </tr>\n",
              "    <tr>\n",
              "      <th>1</th>\n",
              "      <td>0.008034</td>\n",
              "      <td>-0.018646</td>\n",
              "      <td>-0.008344</td>\n",
              "      <td>-0.000505</td>\n",
              "      <td>0.286214</td>\n",
              "      <td>0.000176</td>\n",
              "      <td>-0.021938</td>\n",
              "      <td>0.262403</td>\n",
              "      <td>-0.018012</td>\n",
              "      <td>-0.869655</td>\n",
              "      <td>-0.580850</td>\n",
              "      <td>-0.965426</td>\n",
              "      <td>-0.355583</td>\n",
              "      <td>2.010585</td>\n",
              "      <td>1.002554</td>\n",
              "      <td>0.513842</td>\n",
              "      <td>0.309736</td>\n",
              "      <td>-0.884912</td>\n",
              "    </tr>\n",
              "    <tr>\n",
              "      <th>2</th>\n",
              "      <td>-0.020334</td>\n",
              "      <td>-0.006497</td>\n",
              "      <td>-0.015281</td>\n",
              "      <td>-0.110071</td>\n",
              "      <td>2.464120</td>\n",
              "      <td>2.886738</td>\n",
              "      <td>-0.002504</td>\n",
              "      <td>0.306077</td>\n",
              "      <td>-0.006963</td>\n",
              "      <td>-0.703645</td>\n",
              "      <td>-0.297254</td>\n",
              "      <td>-0.991304</td>\n",
              "      <td>-0.488018</td>\n",
              "      <td>0.825836</td>\n",
              "      <td>-0.282902</td>\n",
              "      <td>0.027324</td>\n",
              "      <td>0.309736</td>\n",
              "      <td>-0.680923</td>\n",
              "    </tr>\n",
              "    <tr>\n",
              "      <th>3</th>\n",
              "      <td>0.226496</td>\n",
              "      <td>0.048878</td>\n",
              "      <td>-0.015537</td>\n",
              "      <td>-0.116531</td>\n",
              "      <td>0.329872</td>\n",
              "      <td>0.242989</td>\n",
              "      <td>0.033205</td>\n",
              "      <td>0.204170</td>\n",
              "      <td>0.053283</td>\n",
              "      <td>-0.782501</td>\n",
              "      <td>-0.487418</td>\n",
              "      <td>-0.932696</td>\n",
              "      <td>-0.188089</td>\n",
              "      <td>1.104873</td>\n",
              "      <td>-0.111316</td>\n",
              "      <td>-0.048118</td>\n",
              "      <td>0.309736</td>\n",
              "      <td>-0.792117</td>\n",
              "    </tr>\n",
              "    <tr>\n",
              "      <th>4</th>\n",
              "      <td>-0.045877</td>\n",
              "      <td>-0.033206</td>\n",
              "      <td>-0.013966</td>\n",
              "      <td>-0.095776</td>\n",
              "      <td>1.434241</td>\n",
              "      <td>1.462148</td>\n",
              "      <td>-0.030060</td>\n",
              "      <td>0.247845</td>\n",
              "      <td>-0.033602</td>\n",
              "      <td>0.706083</td>\n",
              "      <td>0.916096</td>\n",
              "      <td>1.085093</td>\n",
              "      <td>-0.441274</td>\n",
              "      <td>-0.027739</td>\n",
              "      <td>-0.446736</td>\n",
              "      <td>0.698595</td>\n",
              "      <td>0.348465</td>\n",
              "      <td>0.752303</td>\n",
              "    </tr>\n",
              "  </tbody>\n",
              "</table>\n",
              "</div>"
            ],
            "text/plain": [
              "    V1 size   V2 size   V3 size   V4 size   V5 size   V6 size   V7 size  \\\n",
              "0 -0.059394 -0.039939 -0.011670 -0.060397 -0.478134 -0.586015 -0.036360   \n",
              "1  0.008034 -0.018646 -0.008344 -0.000505  0.286214  0.000176 -0.021938   \n",
              "2 -0.020334 -0.006497 -0.015281 -0.110071  2.464120  2.886738 -0.002504   \n",
              "3  0.226496  0.048878 -0.015537 -0.116531  0.329872  0.242989  0.033205   \n",
              "4 -0.045877 -0.033206 -0.013966 -0.095776  1.434241  1.462148 -0.030060   \n",
              "\n",
              "    V8 size   V9 size  V1 interv.  V2 interv.  V3 interv.  V4 interv.  \\\n",
              "0  0.262403 -0.040434   -0.820271   -0.024210   -0.994349   -0.503599   \n",
              "1  0.262403 -0.018012   -0.869655   -0.580850   -0.965426   -0.355583   \n",
              "2  0.306077 -0.006963   -0.703645   -0.297254   -0.991304   -0.488018   \n",
              "3  0.204170  0.053283   -0.782501   -0.487418   -0.932696   -0.188089   \n",
              "4  0.247845 -0.033602    0.706083    0.916096    1.085093   -0.441274   \n",
              "\n",
              "   V5 interv.  V6 interv.  V7 interv.  V8 interv.  V9 interv.  \n",
              "0    1.464846    0.095025    0.513842    0.309736   -0.682380  \n",
              "1    2.010585    1.002554    0.513842    0.309736   -0.884912  \n",
              "2    0.825836   -0.282902    0.027324    0.309736   -0.680923  \n",
              "3    1.104873   -0.111316   -0.048118    0.309736   -0.792117  \n",
              "4   -0.027739   -0.446736    0.698595    0.348465    0.752303  "
            ]
          },
          "execution_count": 59,
          "metadata": {},
          "output_type": "execute_result"
        }
      ]
    },
    {
      "cell_type": "code",
      "metadata": {
        "id": "still-sperm",
        "outputId": "192bcadf-b5cc-4543-d8a5-381237297d7b"
      },
      "source": [
        "df_balanced_stand.describe()"
      ],
      "id": "still-sperm",
      "execution_count": null,
      "outputs": [
        {
          "data": {
            "text/html": [
              "<div>\n",
              "<style scoped>\n",
              "    .dataframe tbody tr th:only-of-type {\n",
              "        vertical-align: middle;\n",
              "    }\n",
              "\n",
              "    .dataframe tbody tr th {\n",
              "        vertical-align: top;\n",
              "    }\n",
              "\n",
              "    .dataframe thead th {\n",
              "        text-align: right;\n",
              "    }\n",
              "</style>\n",
              "<table border=\"1\" class=\"dataframe\">\n",
              "  <thead>\n",
              "    <tr style=\"text-align: right;\">\n",
              "      <th></th>\n",
              "      <th>V1 size</th>\n",
              "      <th>V2 size</th>\n",
              "      <th>V3 size</th>\n",
              "      <th>V4 size</th>\n",
              "      <th>V5 size</th>\n",
              "      <th>V6 size</th>\n",
              "      <th>V7 size</th>\n",
              "      <th>V8 size</th>\n",
              "      <th>V9 size</th>\n",
              "      <th>V1 interv.</th>\n",
              "      <th>V2 interv.</th>\n",
              "      <th>V3 interv.</th>\n",
              "      <th>V4 interv.</th>\n",
              "      <th>V5 interv.</th>\n",
              "      <th>V6 interv.</th>\n",
              "      <th>V7 interv.</th>\n",
              "      <th>V8 interv.</th>\n",
              "      <th>V9 interv.</th>\n",
              "    </tr>\n",
              "  </thead>\n",
              "  <tbody>\n",
              "    <tr>\n",
              "      <th>count</th>\n",
              "      <td>1.802000e+04</td>\n",
              "      <td>1.802000e+04</td>\n",
              "      <td>1.802000e+04</td>\n",
              "      <td>1.802000e+04</td>\n",
              "      <td>1.802000e+04</td>\n",
              "      <td>1.802000e+04</td>\n",
              "      <td>1.802000e+04</td>\n",
              "      <td>1.802000e+04</td>\n",
              "      <td>1.802000e+04</td>\n",
              "      <td>1.802000e+04</td>\n",
              "      <td>1.802000e+04</td>\n",
              "      <td>1.802000e+04</td>\n",
              "      <td>1.802000e+04</td>\n",
              "      <td>1.802000e+04</td>\n",
              "      <td>1.802000e+04</td>\n",
              "      <td>1.802000e+04</td>\n",
              "      <td>1.802000e+04</td>\n",
              "      <td>1.802000e+04</td>\n",
              "    </tr>\n",
              "    <tr>\n",
              "      <th>mean</th>\n",
              "      <td>-3.113915e-17</td>\n",
              "      <td>-2.749450e-17</td>\n",
              "      <td>-3.692400e-17</td>\n",
              "      <td>3.618899e-16</td>\n",
              "      <td>2.704336e-16</td>\n",
              "      <td>3.003886e-16</td>\n",
              "      <td>5.040363e-17</td>\n",
              "      <td>-9.443088e-15</td>\n",
              "      <td>-5.351997e-17</td>\n",
              "      <td>1.423451e-16</td>\n",
              "      <td>5.926570e-16</td>\n",
              "      <td>5.304623e-15</td>\n",
              "      <td>5.519330e-15</td>\n",
              "      <td>-1.019215e-15</td>\n",
              "      <td>-6.993727e-17</td>\n",
              "      <td>-4.016346e-15</td>\n",
              "      <td>-5.592679e-14</td>\n",
              "      <td>3.149152e-15</td>\n",
              "    </tr>\n",
              "    <tr>\n",
              "      <th>std</th>\n",
              "      <td>1.000028e+00</td>\n",
              "      <td>1.000028e+00</td>\n",
              "      <td>1.000028e+00</td>\n",
              "      <td>1.000028e+00</td>\n",
              "      <td>1.000028e+00</td>\n",
              "      <td>1.000028e+00</td>\n",
              "      <td>1.000028e+00</td>\n",
              "      <td>1.000028e+00</td>\n",
              "      <td>1.000028e+00</td>\n",
              "      <td>1.000028e+00</td>\n",
              "      <td>1.000028e+00</td>\n",
              "      <td>1.000028e+00</td>\n",
              "      <td>1.000028e+00</td>\n",
              "      <td>1.000028e+00</td>\n",
              "      <td>1.000028e+00</td>\n",
              "      <td>1.000028e+00</td>\n",
              "      <td>1.000028e+00</td>\n",
              "      <td>1.000028e+00</td>\n",
              "    </tr>\n",
              "    <tr>\n",
              "      <th>min</th>\n",
              "      <td>-6.236141e-02</td>\n",
              "      <td>-4.055125e-02</td>\n",
              "      <td>-1.595791e-02</td>\n",
              "      <td>-1.190104e-01</td>\n",
              "      <td>-2.646044e+00</td>\n",
              "      <td>-1.069275e+00</td>\n",
              "      <td>-3.670564e-02</td>\n",
              "      <td>-6.038010e-01</td>\n",
              "      <td>-4.112250e-02</td>\n",
              "      <td>-1.356149e+00</td>\n",
              "      <td>-1.352863e+00</td>\n",
              "      <td>-1.237915e+00</td>\n",
              "      <td>-5.035987e-01</td>\n",
              "      <td>-3.971243e+00</td>\n",
              "      <td>-4.791956e-01</td>\n",
              "      <td>-1.653935e+00</td>\n",
              "      <td>-7.294883e-01</td>\n",
              "      <td>-1.448143e+00</td>\n",
              "    </tr>\n",
              "    <tr>\n",
              "      <th>25%</th>\n",
              "      <td>-6.178827e-02</td>\n",
              "      <td>-4.042371e-02</td>\n",
              "      <td>-1.571706e-02</td>\n",
              "      <td>-1.173362e-01</td>\n",
              "      <td>-7.496924e-01</td>\n",
              "      <td>-7.342340e-01</td>\n",
              "      <td>-3.661829e-02</td>\n",
              "      <td>-5.876325e-01</td>\n",
              "      <td>-4.097680e-02</td>\n",
              "      <td>-1.235820e+00</td>\n",
              "      <td>-1.197444e+00</td>\n",
              "      <td>-1.122221e+00</td>\n",
              "      <td>-5.035987e-01</td>\n",
              "      <td>-2.658464e-01</td>\n",
              "      <td>-4.263031e-01</td>\n",
              "      <td>-1.413755e+00</td>\n",
              "      <td>-6.326661e-01</td>\n",
              "      <td>-1.322807e+00</td>\n",
              "    </tr>\n",
              "    <tr>\n",
              "      <th>50%</th>\n",
              "      <td>-6.093737e-02</td>\n",
              "      <td>-4.015902e-02</td>\n",
              "      <td>-1.528845e-02</td>\n",
              "      <td>-1.150168e-01</td>\n",
              "      <td>-2.314018e-01</td>\n",
              "      <td>-3.850081e-01</td>\n",
              "      <td>-3.647546e-02</td>\n",
              "      <td>-4.780122e-01</td>\n",
              "      <td>-4.068561e-02</td>\n",
              "      <td>2.161282e-01</td>\n",
              "      <td>3.599337e-02</td>\n",
              "      <td>4.803648e-01</td>\n",
              "      <td>-5.035987e-01</td>\n",
              "      <td>8.140019e-02</td>\n",
              "      <td>-2.604659e-01</td>\n",
              "      <td>5.846639e-01</td>\n",
              "      <td>-1.356456e-01</td>\n",
              "      <td>4.190311e-01</td>\n",
              "    </tr>\n",
              "    <tr>\n",
              "      <th>75%</th>\n",
              "      <td>-5.687433e-02</td>\n",
              "      <td>-3.918383e-02</td>\n",
              "      <td>-1.410288e-02</td>\n",
              "      <td>-1.002151e-01</td>\n",
              "      <td>6.504629e-01</td>\n",
              "      <td>4.524508e-01</td>\n",
              "      <td>-3.583024e-02</td>\n",
              "      <td>2.987977e-01</td>\n",
              "      <td>-3.963193e-02</td>\n",
              "      <td>8.079243e-01</td>\n",
              "      <td>1.002056e+00</td>\n",
              "      <td>9.145966e-01</td>\n",
              "      <td>7.287776e-02</td>\n",
              "      <td>4.960990e-01</td>\n",
              "      <td>-1.700185e-01</td>\n",
              "      <td>7.201499e-01</td>\n",
              "      <td>3.097364e-01</td>\n",
              "      <td>8.210255e-01</td>\n",
              "    </tr>\n",
              "    <tr>\n",
              "      <th>max</th>\n",
              "      <td>6.276456e+01</td>\n",
              "      <td>6.895646e+01</td>\n",
              "      <td>1.340155e+02</td>\n",
              "      <td>8.386817e+01</td>\n",
              "      <td>2.565149e+00</td>\n",
              "      <td>3.139991e+00</td>\n",
              "      <td>6.920284e+01</td>\n",
              "      <td>5.933166e+01</td>\n",
              "      <td>6.888632e+01</td>\n",
              "      <td>1.768609e+00</td>\n",
              "      <td>1.566629e+00</td>\n",
              "      <td>1.219054e+00</td>\n",
              "      <td>5.467669e+00</td>\n",
              "      <td>4.490927e+00</td>\n",
              "      <td>6.357832e+00</td>\n",
              "      <td>3.580753e+00</td>\n",
              "      <td>9.695033e+00</td>\n",
              "      <td>1.487525e+00</td>\n",
              "    </tr>\n",
              "  </tbody>\n",
              "</table>\n",
              "</div>"
            ],
            "text/plain": [
              "            V1 size       V2 size       V3 size       V4 size       V5 size  \\\n",
              "count  1.802000e+04  1.802000e+04  1.802000e+04  1.802000e+04  1.802000e+04   \n",
              "mean  -3.113915e-17 -2.749450e-17 -3.692400e-17  3.618899e-16  2.704336e-16   \n",
              "std    1.000028e+00  1.000028e+00  1.000028e+00  1.000028e+00  1.000028e+00   \n",
              "min   -6.236141e-02 -4.055125e-02 -1.595791e-02 -1.190104e-01 -2.646044e+00   \n",
              "25%   -6.178827e-02 -4.042371e-02 -1.571706e-02 -1.173362e-01 -7.496924e-01   \n",
              "50%   -6.093737e-02 -4.015902e-02 -1.528845e-02 -1.150168e-01 -2.314018e-01   \n",
              "75%   -5.687433e-02 -3.918383e-02 -1.410288e-02 -1.002151e-01  6.504629e-01   \n",
              "max    6.276456e+01  6.895646e+01  1.340155e+02  8.386817e+01  2.565149e+00   \n",
              "\n",
              "            V6 size       V7 size       V8 size       V9 size    V1 interv.  \\\n",
              "count  1.802000e+04  1.802000e+04  1.802000e+04  1.802000e+04  1.802000e+04   \n",
              "mean   3.003886e-16  5.040363e-17 -9.443088e-15 -5.351997e-17  1.423451e-16   \n",
              "std    1.000028e+00  1.000028e+00  1.000028e+00  1.000028e+00  1.000028e+00   \n",
              "min   -1.069275e+00 -3.670564e-02 -6.038010e-01 -4.112250e-02 -1.356149e+00   \n",
              "25%   -7.342340e-01 -3.661829e-02 -5.876325e-01 -4.097680e-02 -1.235820e+00   \n",
              "50%   -3.850081e-01 -3.647546e-02 -4.780122e-01 -4.068561e-02  2.161282e-01   \n",
              "75%    4.524508e-01 -3.583024e-02  2.987977e-01 -3.963193e-02  8.079243e-01   \n",
              "max    3.139991e+00  6.920284e+01  5.933166e+01  6.888632e+01  1.768609e+00   \n",
              "\n",
              "         V2 interv.    V3 interv.    V4 interv.    V5 interv.    V6 interv.  \\\n",
              "count  1.802000e+04  1.802000e+04  1.802000e+04  1.802000e+04  1.802000e+04   \n",
              "mean   5.926570e-16  5.304623e-15  5.519330e-15 -1.019215e-15 -6.993727e-17   \n",
              "std    1.000028e+00  1.000028e+00  1.000028e+00  1.000028e+00  1.000028e+00   \n",
              "min   -1.352863e+00 -1.237915e+00 -5.035987e-01 -3.971243e+00 -4.791956e-01   \n",
              "25%   -1.197444e+00 -1.122221e+00 -5.035987e-01 -2.658464e-01 -4.263031e-01   \n",
              "50%    3.599337e-02  4.803648e-01 -5.035987e-01  8.140019e-02 -2.604659e-01   \n",
              "75%    1.002056e+00  9.145966e-01  7.287776e-02  4.960990e-01 -1.700185e-01   \n",
              "max    1.566629e+00  1.219054e+00  5.467669e+00  4.490927e+00  6.357832e+00   \n",
              "\n",
              "         V7 interv.    V8 interv.    V9 interv.  \n",
              "count  1.802000e+04  1.802000e+04  1.802000e+04  \n",
              "mean  -4.016346e-15 -5.592679e-14  3.149152e-15  \n",
              "std    1.000028e+00  1.000028e+00  1.000028e+00  \n",
              "min   -1.653935e+00 -7.294883e-01 -1.448143e+00  \n",
              "25%   -1.413755e+00 -6.326661e-01 -1.322807e+00  \n",
              "50%    5.846639e-01 -1.356456e-01  4.190311e-01  \n",
              "75%    7.201499e-01  3.097364e-01  8.210255e-01  \n",
              "max    3.580753e+00  9.695033e+00  1.487525e+00  "
            ]
          },
          "execution_count": 60,
          "metadata": {},
          "output_type": "execute_result"
        }
      ]
    },
    {
      "cell_type": "markdown",
      "metadata": {
        "id": "legitimate-collective"
      },
      "source": [
        "## Seleção de atributos"
      ],
      "id": "legitimate-collective"
    },
    {
      "cell_type": "markdown",
      "metadata": {
        "id": "rocky-tuition"
      },
      "source": [
        "### Mutual information test\n",
        "- OBS.: Advantage of using mutual information over F-Test is, it does well with the non-linear relationship between feature and target variable.\n",
        "\n",
        "Mutual Information between two variables measures the dependence of one variable to another. If X and Y are two variables, and\n",
        "If X and Y are independent, then no information about Y can be obtained by knowing X or vice versa. Hence their mutual information is 0.\n",
        "If X is a deterministic function of Y, then we can determine X from Y and Y from X with mutual information 1.\n",
        "When we have Y = f(X,Z,M,N), 0 < mutual information < 1\n",
        "We can select our features from feature space by ranking their mutual information with the target variable.\n",
        "\n",
        "Source: https://towardsdatascience.com/why-how-and-when-to-apply-feature-selection-e9c69adfabf2"
      ],
      "id": "rocky-tuition"
    },
    {
      "cell_type": "code",
      "metadata": {
        "id": "existing-encyclopedia",
        "outputId": "0c4c3838-377a-4593-e4b3-2cf20df7b103"
      },
      "source": [
        "from pandas import read_csv\n",
        "from sklearn.model_selection import train_test_split\n",
        "from sklearn.feature_selection import SelectKBest\n",
        "from sklearn.feature_selection import mutual_info_classif\n",
        "from matplotlib import pyplot\n",
        " \n",
        "# feature selection\n",
        "def select_features(X_train, y_train, X_test):\n",
        "\t# configure to select all features\n",
        "\tfs = SelectKBest(score_func=mutual_info_classif, k='all')\n",
        "\t# learn relationship from training data\n",
        "\tfs.fit(X_train, y_train)\n",
        "\t# transform train input data\n",
        "\tX_train_fs = fs.transform(X_train)\n",
        "\t# transform test input data\n",
        "\tX_test_fs = fs.transform(X_test)\n",
        "\treturn X_train_fs, X_test_fs, fs\n",
        " \n",
        "# load the dataset\n",
        "X = df_balanced_stand\n",
        "y = y_balanced\n",
        "\n",
        "# split into train and test sets\n",
        "X_train, X_test, y_train, y_test = train_test_split(X, y, test_size=0.33, random_state=1)\n",
        "# feature selection\n",
        "X_train_fs, X_test_fs, fs = select_features(X_train, y_train, X_test)\n",
        "# what are scores for the features\n",
        "for i in range(len(fs.scores_)):\n",
        "\tprint('Feature %d: %f' % (i, fs.scores_[i]))\n",
        "# plot the scores\n",
        "pyplot.bar([i for i in range(len(fs.scores_))], fs.scores_)\n",
        "pyplot.show()"
      ],
      "id": "existing-encyclopedia",
      "execution_count": null,
      "outputs": [
        {
          "name": "stdout",
          "output_type": "stream",
          "text": [
            "Feature 0: 0.364637\n",
            "Feature 1: 0.352392\n",
            "Feature 2: 0.459893\n",
            "Feature 3: 0.244411\n",
            "Feature 4: 0.105827\n",
            "Feature 5: 0.104798\n",
            "Feature 6: 0.418850\n",
            "Feature 7: 0.672584\n",
            "Feature 8: 0.367363\n",
            "Feature 9: 0.510031\n",
            "Feature 10: 0.454374\n",
            "Feature 11: 0.608733\n",
            "Feature 12: 0.118026\n",
            "Feature 13: 0.336301\n",
            "Feature 14: 0.417558\n",
            "Feature 15: 0.668015\n",
            "Feature 16: 0.693313\n",
            "Feature 17: 0.485004\n"
          ]
        },
        {
          "data": {
            "image/png": "[encoded data removed]",
            "text/plain": [
              "<Figure size 720x720 with 1 Axes>"
            ]
          },
          "metadata": {},
          "output_type": "display_data"
        }
      ]
    },
    {
      "cell_type": "code",
      "metadata": {
        "id": "eastern-ontario"
      },
      "source": [
        ""
      ],
      "id": "eastern-ontario",
      "execution_count": null,
      "outputs": []
    },
    {
      "cell_type": "markdown",
      "metadata": {
        "id": "sporting-consideration"
      },
      "source": [
        "### ANOVA f-test"
      ],
      "id": "sporting-consideration"
    },
    {
      "cell_type": "code",
      "metadata": {
        "id": "funky-cincinnati"
      },
      "source": [
        ""
      ],
      "id": "funky-cincinnati",
      "execution_count": null,
      "outputs": []
    },
    {
      "cell_type": "code",
      "metadata": {
        "id": "minimal-provincial",
        "outputId": "67a1ee6b-0745-4292-ec41-2ed2c4f03a48"
      },
      "source": [
        "# example of anova f-test feature selection for numerical data\n",
        "from pandas import read_csv\n",
        "from sklearn.model_selection import train_test_split\n",
        "from sklearn.feature_selection import SelectKBest\n",
        "from sklearn.feature_selection import f_classif\n",
        "from matplotlib import pyplot\n",
        "\n",
        "def select_features(X_train, y_train, X_test):\n",
        "\t# configure to select all features\n",
        "\tfs = SelectKBest(score_func=f_classif, k='all')\n",
        "\t# learn relationship from training data\n",
        "\tfs.fit(X_train, y_train)\n",
        "\t# transform train input data\n",
        "\tX_train_fs = fs.transform(X_train)\n",
        "\t# transform test input data\n",
        "\tX_test_fs = fs.transform(X_test)\n",
        "\treturn X_train_fs, X_test_fs, fs\n",
        "\n",
        "X_train, X_test, y_train, y_test = train_test_split(df_balanced_stand, y_balanced, test_size=0.33, random_state=1)\n",
        "# feature selection\n",
        "X_train_fs, X_test_fs, fs = select_features(X_train, y_train, X_test)\n",
        "# what are scores for the features\n",
        "for i in range(len(fs.scores_)):\n",
        "\tprint('Feature %d: %f' % (i, fs.scores_[i]))\n",
        "# plot the scores\n",
        "pyplot.bar([i for i in range(len(fs.scores_))], fs.scores_)\n",
        "pyplot.show()"
      ],
      "id": "minimal-provincial",
      "execution_count": null,
      "outputs": [
        {
          "name": "stdout",
          "output_type": "stream",
          "text": [
            "Feature 0: 50.325007\n",
            "Feature 1: 21.767162\n",
            "Feature 2: 2.680583\n",
            "Feature 3: 114.197534\n",
            "Feature 4: 1325.712541\n",
            "Feature 5: 841.581608\n",
            "Feature 6: 17.271606\n",
            "Feature 7: 10618.276717\n",
            "Feature 8: 22.467599\n",
            "Feature 9: 4405.862593\n",
            "Feature 10: 79.835717\n",
            "Feature 11: 1191.053498\n",
            "Feature 12: 184.262389\n",
            "Feature 13: 492.248914\n",
            "Feature 14: 1241.172776\n",
            "Feature 15: 3888.375839\n",
            "Feature 16: 9833.816048\n",
            "Feature 17: 3470.793700\n"
          ]
        },
        {
          "data": {
            "image/png": "[encoded data removed]",
            "text/plain": [
              "<Figure size 720x720 with 1 Axes>"
            ]
          },
          "metadata": {},
          "output_type": "display_data"
        }
      ]
    },
    {
      "cell_type": "markdown",
      "metadata": {
        "id": "legal-heavy"
      },
      "source": [
        "### Gerando um csv com os dados pre processados:"
      ],
      "id": "legal-heavy"
    },
    {
      "cell_type": "code",
      "metadata": {
        "id": "wrapped-nigeria",
        "outputId": "f6c24d6d-c802-4a2c-b74d-bbe857aa4d2d"
      },
      "source": [
        "len(df_balanced_stand)"
      ],
      "id": "wrapped-nigeria",
      "execution_count": null,
      "outputs": [
        {
          "data": {
            "text/plain": [
              "18020"
            ]
          },
          "execution_count": 62,
          "metadata": {},
          "output_type": "execute_result"
        }
      ]
    },
    {
      "cell_type": "code",
      "metadata": {
        "id": "honey-studio",
        "outputId": "623fc149-ce25-41bd-d8ca-ad12d23157a7"
      },
      "source": [
        "df_balanced_stand.head()"
      ],
      "id": "honey-studio",
      "execution_count": null,
      "outputs": [
        {
          "data": {
            "text/html": [
              "<div>\n",
              "<style scoped>\n",
              "    .dataframe tbody tr th:only-of-type {\n",
              "        vertical-align: middle;\n",
              "    }\n",
              "\n",
              "    .dataframe tbody tr th {\n",
              "        vertical-align: top;\n",
              "    }\n",
              "\n",
              "    .dataframe thead th {\n",
              "        text-align: right;\n",
              "    }\n",
              "</style>\n",
              "<table border=\"1\" class=\"dataframe\">\n",
              "  <thead>\n",
              "    <tr style=\"text-align: right;\">\n",
              "      <th></th>\n",
              "      <th>V1 size</th>\n",
              "      <th>V2 size</th>\n",
              "      <th>V3 size</th>\n",
              "      <th>V4 size</th>\n",
              "      <th>V5 size</th>\n",
              "      <th>V6 size</th>\n",
              "      <th>V7 size</th>\n",
              "      <th>V8 size</th>\n",
              "      <th>V9 size</th>\n",
              "      <th>V1 interv.</th>\n",
              "      <th>V2 interv.</th>\n",
              "      <th>V3 interv.</th>\n",
              "      <th>V4 interv.</th>\n",
              "      <th>V5 interv.</th>\n",
              "      <th>V6 interv.</th>\n",
              "      <th>V7 interv.</th>\n",
              "      <th>V8 interv.</th>\n",
              "      <th>V9 interv.</th>\n",
              "    </tr>\n",
              "  </thead>\n",
              "  <tbody>\n",
              "    <tr>\n",
              "      <th>0</th>\n",
              "      <td>-0.059394</td>\n",
              "      <td>-0.039939</td>\n",
              "      <td>-0.011670</td>\n",
              "      <td>-0.060397</td>\n",
              "      <td>-0.478134</td>\n",
              "      <td>-0.586015</td>\n",
              "      <td>-0.036360</td>\n",
              "      <td>0.262403</td>\n",
              "      <td>-0.040434</td>\n",
              "      <td>-0.820271</td>\n",
              "      <td>-0.024210</td>\n",
              "      <td>-0.994349</td>\n",
              "      <td>-0.503599</td>\n",
              "      <td>1.464846</td>\n",
              "      <td>0.095025</td>\n",
              "      <td>0.513842</td>\n",
              "      <td>0.309736</td>\n",
              "      <td>-0.682380</td>\n",
              "    </tr>\n",
              "    <tr>\n",
              "      <th>1</th>\n",
              "      <td>0.008034</td>\n",
              "      <td>-0.018646</td>\n",
              "      <td>-0.008344</td>\n",
              "      <td>-0.000505</td>\n",
              "      <td>0.286214</td>\n",
              "      <td>0.000176</td>\n",
              "      <td>-0.021938</td>\n",
              "      <td>0.262403</td>\n",
              "      <td>-0.018012</td>\n",
              "      <td>-0.869655</td>\n",
              "      <td>-0.580850</td>\n",
              "      <td>-0.965426</td>\n",
              "      <td>-0.355583</td>\n",
              "      <td>2.010585</td>\n",
              "      <td>1.002554</td>\n",
              "      <td>0.513842</td>\n",
              "      <td>0.309736</td>\n",
              "      <td>-0.884912</td>\n",
              "    </tr>\n",
              "    <tr>\n",
              "      <th>2</th>\n",
              "      <td>-0.020334</td>\n",
              "      <td>-0.006497</td>\n",
              "      <td>-0.015281</td>\n",
              "      <td>-0.110071</td>\n",
              "      <td>2.464120</td>\n",
              "      <td>2.886738</td>\n",
              "      <td>-0.002504</td>\n",
              "      <td>0.306077</td>\n",
              "      <td>-0.006963</td>\n",
              "      <td>-0.703645</td>\n",
              "      <td>-0.297254</td>\n",
              "      <td>-0.991304</td>\n",
              "      <td>-0.488018</td>\n",
              "      <td>0.825836</td>\n",
              "      <td>-0.282902</td>\n",
              "      <td>0.027324</td>\n",
              "      <td>0.309736</td>\n",
              "      <td>-0.680923</td>\n",
              "    </tr>\n",
              "    <tr>\n",
              "      <th>3</th>\n",
              "      <td>0.226496</td>\n",
              "      <td>0.048878</td>\n",
              "      <td>-0.015537</td>\n",
              "      <td>-0.116531</td>\n",
              "      <td>0.329872</td>\n",
              "      <td>0.242989</td>\n",
              "      <td>0.033205</td>\n",
              "      <td>0.204170</td>\n",
              "      <td>0.053283</td>\n",
              "      <td>-0.782501</td>\n",
              "      <td>-0.487418</td>\n",
              "      <td>-0.932696</td>\n",
              "      <td>-0.188089</td>\n",
              "      <td>1.104873</td>\n",
              "      <td>-0.111316</td>\n",
              "      <td>-0.048118</td>\n",
              "      <td>0.309736</td>\n",
              "      <td>-0.792117</td>\n",
              "    </tr>\n",
              "    <tr>\n",
              "      <th>4</th>\n",
              "      <td>-0.045877</td>\n",
              "      <td>-0.033206</td>\n",
              "      <td>-0.013966</td>\n",
              "      <td>-0.095776</td>\n",
              "      <td>1.434241</td>\n",
              "      <td>1.462148</td>\n",
              "      <td>-0.030060</td>\n",
              "      <td>0.247845</td>\n",
              "      <td>-0.033602</td>\n",
              "      <td>0.706083</td>\n",
              "      <td>0.916096</td>\n",
              "      <td>1.085093</td>\n",
              "      <td>-0.441274</td>\n",
              "      <td>-0.027739</td>\n",
              "      <td>-0.446736</td>\n",
              "      <td>0.698595</td>\n",
              "      <td>0.348465</td>\n",
              "      <td>0.752303</td>\n",
              "    </tr>\n",
              "  </tbody>\n",
              "</table>\n",
              "</div>"
            ],
            "text/plain": [
              "    V1 size   V2 size   V3 size   V4 size   V5 size   V6 size   V7 size  \\\n",
              "0 -0.059394 -0.039939 -0.011670 -0.060397 -0.478134 -0.586015 -0.036360   \n",
              "1  0.008034 -0.018646 -0.008344 -0.000505  0.286214  0.000176 -0.021938   \n",
              "2 -0.020334 -0.006497 -0.015281 -0.110071  2.464120  2.886738 -0.002504   \n",
              "3  0.226496  0.048878 -0.015537 -0.116531  0.329872  0.242989  0.033205   \n",
              "4 -0.045877 -0.033206 -0.013966 -0.095776  1.434241  1.462148 -0.030060   \n",
              "\n",
              "    V8 size   V9 size  V1 interv.  V2 interv.  V3 interv.  V4 interv.  \\\n",
              "0  0.262403 -0.040434   -0.820271   -0.024210   -0.994349   -0.503599   \n",
              "1  0.262403 -0.018012   -0.869655   -0.580850   -0.965426   -0.355583   \n",
              "2  0.306077 -0.006963   -0.703645   -0.297254   -0.991304   -0.488018   \n",
              "3  0.204170  0.053283   -0.782501   -0.487418   -0.932696   -0.188089   \n",
              "4  0.247845 -0.033602    0.706083    0.916096    1.085093   -0.441274   \n",
              "\n",
              "   V5 interv.  V6 interv.  V7 interv.  V8 interv.  V9 interv.  \n",
              "0    1.464846    0.095025    0.513842    0.309736   -0.682380  \n",
              "1    2.010585    1.002554    0.513842    0.309736   -0.884912  \n",
              "2    0.825836   -0.282902    0.027324    0.309736   -0.680923  \n",
              "3    1.104873   -0.111316   -0.048118    0.309736   -0.792117  \n",
              "4   -0.027739   -0.446736    0.698595    0.348465    0.752303  "
            ]
          },
          "execution_count": 65,
          "metadata": {},
          "output_type": "execute_result"
        }
      ]
    },
    {
      "cell_type": "code",
      "metadata": {
        "id": "classified-blues"
      },
      "source": [
        "df_final1 = df_balanced_stand.drop(['V2 size'], axis=1)"
      ],
      "id": "classified-blues",
      "execution_count": null,
      "outputs": []
    },
    {
      "cell_type": "code",
      "metadata": {
        "id": "controlled-puzzle"
      },
      "source": [
        "df_final2 = df_final1.drop(['V3 size'], axis=1)"
      ],
      "id": "controlled-puzzle",
      "execution_count": null,
      "outputs": []
    },
    {
      "cell_type": "code",
      "metadata": {
        "id": "technological-criticism"
      },
      "source": [
        "df_final3 = df_final2.drop(['V6 size'], axis=1)"
      ],
      "id": "technological-criticism",
      "execution_count": null,
      "outputs": []
    },
    {
      "cell_type": "code",
      "metadata": {
        "id": "controlled-process"
      },
      "source": [
        "df_final4 = df_final3.drop(['V7 size'], axis=1)"
      ],
      "id": "controlled-process",
      "execution_count": null,
      "outputs": []
    },
    {
      "cell_type": "code",
      "metadata": {
        "id": "placed-response"
      },
      "source": [
        "df_final5 = df_final4.drop(['V9 size'], axis=1)"
      ],
      "id": "placed-response",
      "execution_count": null,
      "outputs": []
    },
    {
      "cell_type": "code",
      "metadata": {
        "id": "important-delhi"
      },
      "source": [
        "df_final6 = df_final5.drop(['V2 interv.'], axis=1)"
      ],
      "id": "important-delhi",
      "execution_count": null,
      "outputs": []
    },
    {
      "cell_type": "code",
      "metadata": {
        "id": "minus-beach"
      },
      "source": [
        "df_final7 = df_final6.drop(['V4 interv.'], axis=1)"
      ],
      "id": "minus-beach",
      "execution_count": null,
      "outputs": []
    },
    {
      "cell_type": "code",
      "metadata": {
        "id": "orange-travel"
      },
      "source": [
        "df_final8 = df_final7.drop(['V5 interv.'], axis=1)"
      ],
      "id": "orange-travel",
      "execution_count": null,
      "outputs": []
    },
    {
      "cell_type": "code",
      "metadata": {
        "id": "designing-transparency",
        "outputId": "84c89567-b7e2-4227-def9-0a63e3d71728"
      },
      "source": [
        "df_final8.head()"
      ],
      "id": "designing-transparency",
      "execution_count": null,
      "outputs": [
        {
          "data": {
            "text/html": [
              "<div>\n",
              "<style scoped>\n",
              "    .dataframe tbody tr th:only-of-type {\n",
              "        vertical-align: middle;\n",
              "    }\n",
              "\n",
              "    .dataframe tbody tr th {\n",
              "        vertical-align: top;\n",
              "    }\n",
              "\n",
              "    .dataframe thead th {\n",
              "        text-align: right;\n",
              "    }\n",
              "</style>\n",
              "<table border=\"1\" class=\"dataframe\">\n",
              "  <thead>\n",
              "    <tr style=\"text-align: right;\">\n",
              "      <th></th>\n",
              "      <th>V1 size</th>\n",
              "      <th>V4 size</th>\n",
              "      <th>V5 size</th>\n",
              "      <th>V8 size</th>\n",
              "      <th>V1 interv.</th>\n",
              "      <th>V3 interv.</th>\n",
              "      <th>V6 interv.</th>\n",
              "      <th>V7 interv.</th>\n",
              "      <th>V8 interv.</th>\n",
              "      <th>V9 interv.</th>\n",
              "    </tr>\n",
              "  </thead>\n",
              "  <tbody>\n",
              "    <tr>\n",
              "      <th>0</th>\n",
              "      <td>-0.059394</td>\n",
              "      <td>-0.060397</td>\n",
              "      <td>-0.478134</td>\n",
              "      <td>0.262403</td>\n",
              "      <td>-0.820271</td>\n",
              "      <td>-0.994349</td>\n",
              "      <td>0.095025</td>\n",
              "      <td>0.513842</td>\n",
              "      <td>0.309736</td>\n",
              "      <td>-0.682380</td>\n",
              "    </tr>\n",
              "    <tr>\n",
              "      <th>1</th>\n",
              "      <td>0.008034</td>\n",
              "      <td>-0.000505</td>\n",
              "      <td>0.286214</td>\n",
              "      <td>0.262403</td>\n",
              "      <td>-0.869655</td>\n",
              "      <td>-0.965426</td>\n",
              "      <td>1.002554</td>\n",
              "      <td>0.513842</td>\n",
              "      <td>0.309736</td>\n",
              "      <td>-0.884912</td>\n",
              "    </tr>\n",
              "    <tr>\n",
              "      <th>2</th>\n",
              "      <td>-0.020334</td>\n",
              "      <td>-0.110071</td>\n",
              "      <td>2.464120</td>\n",
              "      <td>0.306077</td>\n",
              "      <td>-0.703645</td>\n",
              "      <td>-0.991304</td>\n",
              "      <td>-0.282902</td>\n",
              "      <td>0.027324</td>\n",
              "      <td>0.309736</td>\n",
              "      <td>-0.680923</td>\n",
              "    </tr>\n",
              "    <tr>\n",
              "      <th>3</th>\n",
              "      <td>0.226496</td>\n",
              "      <td>-0.116531</td>\n",
              "      <td>0.329872</td>\n",
              "      <td>0.204170</td>\n",
              "      <td>-0.782501</td>\n",
              "      <td>-0.932696</td>\n",
              "      <td>-0.111316</td>\n",
              "      <td>-0.048118</td>\n",
              "      <td>0.309736</td>\n",
              "      <td>-0.792117</td>\n",
              "    </tr>\n",
              "    <tr>\n",
              "      <th>4</th>\n",
              "      <td>-0.045877</td>\n",
              "      <td>-0.095776</td>\n",
              "      <td>1.434241</td>\n",
              "      <td>0.247845</td>\n",
              "      <td>0.706083</td>\n",
              "      <td>1.085093</td>\n",
              "      <td>-0.446736</td>\n",
              "      <td>0.698595</td>\n",
              "      <td>0.348465</td>\n",
              "      <td>0.752303</td>\n",
              "    </tr>\n",
              "  </tbody>\n",
              "</table>\n",
              "</div>"
            ],
            "text/plain": [
              "    V1 size   V4 size   V5 size   V8 size  V1 interv.  V3 interv.  V6 interv.  \\\n",
              "0 -0.059394 -0.060397 -0.478134  0.262403   -0.820271   -0.994349    0.095025   \n",
              "1  0.008034 -0.000505  0.286214  0.262403   -0.869655   -0.965426    1.002554   \n",
              "2 -0.020334 -0.110071  2.464120  0.306077   -0.703645   -0.991304   -0.282902   \n",
              "3  0.226496 -0.116531  0.329872  0.204170   -0.782501   -0.932696   -0.111316   \n",
              "4 -0.045877 -0.095776  1.434241  0.247845    0.706083    1.085093   -0.446736   \n",
              "\n",
              "   V7 interv.  V8 interv.  V9 interv.  \n",
              "0    0.513842    0.309736   -0.682380  \n",
              "1    0.513842    0.309736   -0.884912  \n",
              "2    0.027324    0.309736   -0.680923  \n",
              "3   -0.048118    0.309736   -0.792117  \n",
              "4    0.698595    0.348465    0.752303  "
            ]
          },
          "execution_count": 74,
          "metadata": {},
          "output_type": "execute_result"
        }
      ]
    },
    {
      "cell_type": "code",
      "metadata": {
        "id": "unavailable-lyric",
        "outputId": "174dff45-c3ae-4788-833a-1fbd36109eed"
      },
      "source": [
        "df_final8.shape"
      ],
      "id": "unavailable-lyric",
      "execution_count": null,
      "outputs": [
        {
          "data": {
            "text/plain": [
              "(18020, 10)"
            ]
          },
          "execution_count": 77,
          "metadata": {},
          "output_type": "execute_result"
        }
      ]
    },
    {
      "cell_type": "code",
      "metadata": {
        "id": "numeric-instruction"
      },
      "source": [
        "df_final8.to_csv(\"preprocessed_data.csv\", index=False)"
      ],
      "id": "numeric-instruction",
      "execution_count": null,
      "outputs": []
    },
    {
      "cell_type": "code",
      "metadata": {
        "id": "indoor-vector"
      },
      "source": [
        ""
      ],
      "id": "indoor-vector",
      "execution_count": null,
      "outputs": []
    }
  ]
}